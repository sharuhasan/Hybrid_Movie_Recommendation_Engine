{
  "nbformat": 4,
  "nbformat_minor": 0,
  "metadata": {
    "kernelspec": {
      "display_name": "Python 3",
      "language": "python",
      "name": "python3"
    },
    "language_info": {
      "codemirror_mode": {
        "name": "ipython",
        "version": 3
      },
      "file_extension": ".py",
      "mimetype": "text/x-python",
      "name": "python",
      "nbconvert_exporter": "python",
      "pygments_lexer": "ipython3",
      "version": "3.5.2"
    },
    "colab": {
      "name": "Movie_recommendation_engine.ipynb",
      "provenance": [],
      "collapsed_sections": [],
      "include_colab_link": true
    }
  },
  "cells": [
    {
      "cell_type": "markdown",
      "metadata": {
        "id": "view-in-github",
        "colab_type": "text"
      },
      "source": [
        "<a href=\"https://colab.research.google.com/github/sharuhasan/Hybrid_Movie_Recommendation_Engine/blob/main/Movie_recommendation_engine.ipynb\" target=\"_parent\"><img src=\"https://colab.research.google.com/assets/colab-badge.svg\" alt=\"Open In Colab\"/></a>"
      ]
    },
    {
      "cell_type": "markdown",
      "metadata": {
        "id": "vEeslQ2qHpgT"
      },
      "source": [
        "# Build movie recommendation system"
      ]
    },
    {
      "cell_type": "markdown",
      "metadata": {
        "id": "2USL8BehHpgV"
      },
      "source": [
        "<img src=\"https://raw.githubusercontent.com/jalajthanaki/Movie_recommendation_engine/master/img/3_1.gif\" \n",
        "align=\"middle\" alt=\"Figure 3_1\" data-canonical-src=\"\" style=\"width:40%;height:40%\">"
      ]
    },
    {
      "cell_type": "markdown",
      "metadata": {
        "id": "-LHOpGuTHpgW"
      },
      "source": [
        "```\n",
        "1. Import our dependencies\n",
        "2. Load dataset\n",
        "3. Understand dataset\n",
        "4. Data Wrangling (Already done)\n",
        "5. Pre-processing steps \n",
        "6. Build recommendation system\n",
        "   6.1 Simple recommendation system\n",
        "        6.1.1 Implement model\n",
        "        6.1.2 Evaluate Result\n",
        "    6.2 Content based recommendation system\n",
        "        6.2.1 Implement model\n",
        "        6.2.2 Evaluate Result\n",
        "    6.3 CF based recommendation system\n",
        "        6.3.1 Implement model\n",
        "        6.3.2 Evaluate Result\n",
        "    6.4 Hybrid recommendation system\n",
        "        6.4.1 Implement model\n",
        "        6.4.2 Evaluate Result\n",
        "```   "
      ]
    },
    {
      "cell_type": "markdown",
      "metadata": {
        "id": "sdFgGnIwHpgW"
      },
      "source": [
        "## 1. Import libraries"
      ]
    },
    {
      "cell_type": "code",
      "metadata": {
        "colab": {
          "base_uri": "https://localhost:8080/"
        },
        "id": "aotFtrd6IITu",
        "outputId": "29dd7e93-e1b1-45c6-b954-1c25c449d3a6"
      },
      "source": [
        "!pip install scikit-surprise"
      ],
      "execution_count": 2,
      "outputs": [
        {
          "output_type": "stream",
          "text": [
            "Collecting scikit-surprise\n",
            "\u001b[?25l  Downloading https://files.pythonhosted.org/packages/97/37/5d334adaf5ddd65da99fc65f6507e0e4599d092ba048f4302fe8775619e8/scikit-surprise-1.1.1.tar.gz (11.8MB)\n",
            "\u001b[K     |████████████████████████████████| 11.8MB 258kB/s \n",
            "\u001b[?25hRequirement already satisfied: joblib>=0.11 in /usr/local/lib/python3.7/dist-packages (from scikit-surprise) (1.0.1)\n",
            "Requirement already satisfied: numpy>=1.11.2 in /usr/local/lib/python3.7/dist-packages (from scikit-surprise) (1.19.5)\n",
            "Requirement already satisfied: scipy>=1.0.0 in /usr/local/lib/python3.7/dist-packages (from scikit-surprise) (1.4.1)\n",
            "Requirement already satisfied: six>=1.10.0 in /usr/local/lib/python3.7/dist-packages (from scikit-surprise) (1.15.0)\n",
            "Building wheels for collected packages: scikit-surprise\n",
            "  Building wheel for scikit-surprise (setup.py) ... \u001b[?25l\u001b[?25hdone\n",
            "  Created wheel for scikit-surprise: filename=scikit_surprise-1.1.1-cp37-cp37m-linux_x86_64.whl size=1617647 sha256=8e3a6826174917cee6f3f3008546cf4044bc8a077e8af6d7de1282a0b0d8ec29\n",
            "  Stored in directory: /root/.cache/pip/wheels/78/9c/3d/41b419c9d2aff5b6e2b4c0fc8d25c538202834058f9ed110d0\n",
            "Successfully built scikit-surprise\n",
            "Installing collected packages: scikit-surprise\n",
            "Successfully installed scikit-surprise-1.1.1\n"
          ],
          "name": "stdout"
        }
      ]
    },
    {
      "cell_type": "code",
      "metadata": {
        "id": "2g35UoBUHpgX"
      },
      "source": [
        "%matplotlib inline\n",
        "import matplotlib.pyplot as plt\n",
        "import seaborn as sns\n",
        "import pandas as pd\n",
        "import numpy as np\n",
        "import ast \n",
        "from scipy import stats\n",
        "from ast import literal_eval\n",
        "from sklearn.feature_extraction.text import TfidfVectorizer, CountVectorizer\n",
        "from sklearn.metrics.pairwise import linear_kernel, cosine_similarity\n",
        "from nltk.stem.snowball import SnowballStemmer\n",
        "from nltk.stem.wordnet import WordNetLemmatizer\n",
        "from nltk.corpus import wordnet\n",
        "from surprise import Reader, Dataset, SVD\n",
        "from surprise.model_selection import cross_validate\n",
        "\n",
        "import warnings; warnings.simplefilter('ignore')"
      ],
      "execution_count": 3,
      "outputs": []
    },
    {
      "cell_type": "markdown",
      "metadata": {
        "id": "_wrZjjiNHpgX"
      },
      "source": [
        "## 2. Load dataset"
      ]
    },
    {
      "cell_type": "markdown",
      "metadata": {
        "id": "EywFYeV4HpgX"
      },
      "source": [
        "We have MovieLens datasets.\n",
        "\n",
        "**The Dataset:** Consists of 26,000,000 ratings and 750,000 tag applications applied to 45,000 movies by 270,000 users. Includes tag genome data with 12 million relevance scores across 1,100 tags.\n",
        "\n",
        "We will build our Simple Recommender using movies from the Dataset "
      ]
    },
    {
      "cell_type": "code",
      "metadata": {
        "colab": {
          "base_uri": "https://localhost:8080/"
        },
        "id": "NdE7Y_LaIjU7",
        "outputId": "e57851bf-4963-4a84-9a6d-b934299d8be7"
      },
      "source": [
        "from google.colab import drive\n",
        "drive.mount('/content/drive')"
      ],
      "execution_count": 4,
      "outputs": [
        {
          "output_type": "stream",
          "text": [
            "Mounted at /content/drive\n"
          ],
          "name": "stdout"
        }
      ]
    },
    {
      "cell_type": "code",
      "metadata": {
        "id": "TbtQVW2SHpgY"
      },
      "source": [
        "credits = pd.read_csv(\"/content/drive/MyDrive/Hybrid Mov Rec/data set/credits.csv\")\n",
        "keywords = pd.read_csv('/content/drive/MyDrive/Hybrid Mov Rec/data set/keywords.csv')\n",
        "links_small = pd.read_csv('/content/drive/MyDrive/Hybrid Mov Rec/data set/links_small.csv')\n",
        "md = pd.read_csv('/content/drive/MyDrive/Hybrid Mov Rec/data set/movies_metadata.csv')\n",
        "ratings = pd.read_csv('/content/drive/MyDrive/Hybrid Mov Rec/data set/ratings_small.csv')"
      ],
      "execution_count": 5,
      "outputs": []
    },
    {
      "cell_type": "markdown",
      "metadata": {
        "id": "DYK-103QHpgY"
      },
      "source": [
        "## 3. Understand dataset"
      ]
    },
    {
      "cell_type": "markdown",
      "metadata": {
        "id": "y6DYJndvHpgZ"
      },
      "source": [
        "#### Credits dataframe"
      ]
    },
    {
      "cell_type": "code",
      "metadata": {
        "colab": {
          "base_uri": "https://localhost:8080/",
          "height": 203
        },
        "id": "dbHH97O5HpgZ",
        "outputId": "abf08b81-9846-47ef-ea1d-24e0a10909b2"
      },
      "source": [
        "credits.head()\n",
        "#credits.iloc[0:3]\n",
        "#credits['cast'].iloc[0:3]\n",
        "#credits.iloc[:,0:2]"
      ],
      "execution_count": 6,
      "outputs": [
        {
          "output_type": "execute_result",
          "data": {
            "text/html": [
              "<div>\n",
              "<style scoped>\n",
              "    .dataframe tbody tr th:only-of-type {\n",
              "        vertical-align: middle;\n",
              "    }\n",
              "\n",
              "    .dataframe tbody tr th {\n",
              "        vertical-align: top;\n",
              "    }\n",
              "\n",
              "    .dataframe thead th {\n",
              "        text-align: right;\n",
              "    }\n",
              "</style>\n",
              "<table border=\"1\" class=\"dataframe\">\n",
              "  <thead>\n",
              "    <tr style=\"text-align: right;\">\n",
              "      <th></th>\n",
              "      <th>cast</th>\n",
              "      <th>crew</th>\n",
              "      <th>id</th>\n",
              "    </tr>\n",
              "  </thead>\n",
              "  <tbody>\n",
              "    <tr>\n",
              "      <th>0</th>\n",
              "      <td>[{'cast_id': 14, 'character': 'Woody (voice)',...</td>\n",
              "      <td>[{'credit_id': '52fe4284c3a36847f8024f49', 'de...</td>\n",
              "      <td>862</td>\n",
              "    </tr>\n",
              "    <tr>\n",
              "      <th>1</th>\n",
              "      <td>[{'cast_id': 1, 'character': 'Alan Parrish', '...</td>\n",
              "      <td>[{'credit_id': '52fe44bfc3a36847f80a7cd1', 'de...</td>\n",
              "      <td>8844</td>\n",
              "    </tr>\n",
              "    <tr>\n",
              "      <th>2</th>\n",
              "      <td>[{'cast_id': 2, 'character': 'Max Goldman', 'c...</td>\n",
              "      <td>[{'credit_id': '52fe466a9251416c75077a89', 'de...</td>\n",
              "      <td>15602</td>\n",
              "    </tr>\n",
              "    <tr>\n",
              "      <th>3</th>\n",
              "      <td>[{'cast_id': 1, 'character': \"Savannah 'Vannah...</td>\n",
              "      <td>[{'credit_id': '52fe44779251416c91011acb', 'de...</td>\n",
              "      <td>31357</td>\n",
              "    </tr>\n",
              "    <tr>\n",
              "      <th>4</th>\n",
              "      <td>[{'cast_id': 1, 'character': 'George Banks', '...</td>\n",
              "      <td>[{'credit_id': '52fe44959251416c75039ed7', 'de...</td>\n",
              "      <td>11862</td>\n",
              "    </tr>\n",
              "  </tbody>\n",
              "</table>\n",
              "</div>"
            ],
            "text/plain": [
              "                                                cast  ...     id\n",
              "0  [{'cast_id': 14, 'character': 'Woody (voice)',...  ...    862\n",
              "1  [{'cast_id': 1, 'character': 'Alan Parrish', '...  ...   8844\n",
              "2  [{'cast_id': 2, 'character': 'Max Goldman', 'c...  ...  15602\n",
              "3  [{'cast_id': 1, 'character': \"Savannah 'Vannah...  ...  31357\n",
              "4  [{'cast_id': 1, 'character': 'George Banks', '...  ...  11862\n",
              "\n",
              "[5 rows x 3 columns]"
            ]
          },
          "metadata": {
            "tags": []
          },
          "execution_count": 6
        }
      ]
    },
    {
      "cell_type": "code",
      "metadata": {
        "colab": {
          "base_uri": "https://localhost:8080/"
        },
        "id": "CXIy7DhwHpgZ",
        "outputId": "6196c3c0-0b70-49c3-e2e0-7538680a3e9d"
      },
      "source": [
        "credits.columns"
      ],
      "execution_count": 7,
      "outputs": [
        {
          "output_type": "execute_result",
          "data": {
            "text/plain": [
              "Index(['cast', 'crew', 'id'], dtype='object')"
            ]
          },
          "metadata": {
            "tags": []
          },
          "execution_count": 7
        }
      ]
    },
    {
      "cell_type": "markdown",
      "metadata": {
        "id": "WSg_VJnCHpga"
      },
      "source": [
        "* **cast:** Information about casting. Name of actor, gender and it's character name in movie\n",
        "* **crew:** Information about crew members. Like who directed the movie, editor of the movie and so on. \n",
        "* **id:** It's movie ID given by TMDb"
      ]
    },
    {
      "cell_type": "code",
      "metadata": {
        "colab": {
          "base_uri": "https://localhost:8080/"
        },
        "id": "fs6lfN4IHpga",
        "outputId": "ea30933a-1af4-454c-dfac-e2ddf7dea2fe"
      },
      "source": [
        "credits.shape"
      ],
      "execution_count": 8,
      "outputs": [
        {
          "output_type": "execute_result",
          "data": {
            "text/plain": [
              "(45476, 3)"
            ]
          },
          "metadata": {
            "tags": []
          },
          "execution_count": 8
        }
      ]
    },
    {
      "cell_type": "code",
      "metadata": {
        "colab": {
          "base_uri": "https://localhost:8080/"
        },
        "id": "qyDQeqXZHpga",
        "outputId": "1196ac6b-fb35-47a7-8034-9974026b900b"
      },
      "source": [
        "credits.info()"
      ],
      "execution_count": 9,
      "outputs": [
        {
          "output_type": "stream",
          "text": [
            "<class 'pandas.core.frame.DataFrame'>\n",
            "RangeIndex: 45476 entries, 0 to 45475\n",
            "Data columns (total 3 columns):\n",
            " #   Column  Non-Null Count  Dtype \n",
            "---  ------  --------------  ----- \n",
            " 0   cast    45476 non-null  object\n",
            " 1   crew    45476 non-null  object\n",
            " 2   id      45476 non-null  int64 \n",
            "dtypes: int64(1), object(2)\n",
            "memory usage: 1.0+ MB\n"
          ],
          "name": "stdout"
        }
      ]
    },
    {
      "cell_type": "markdown",
      "metadata": {
        "id": "lZVtRKd5Hpgb"
      },
      "source": [
        "#### Keywords dataframe"
      ]
    },
    {
      "cell_type": "code",
      "metadata": {
        "colab": {
          "base_uri": "https://localhost:8080/",
          "height": 203
        },
        "id": "tJAEkJoMHpgb",
        "outputId": "f33fc3d0-e73e-4a91-8c99-81787918ce0e"
      },
      "source": [
        "keywords.head()"
      ],
      "execution_count": 10,
      "outputs": [
        {
          "output_type": "execute_result",
          "data": {
            "text/html": [
              "<div>\n",
              "<style scoped>\n",
              "    .dataframe tbody tr th:only-of-type {\n",
              "        vertical-align: middle;\n",
              "    }\n",
              "\n",
              "    .dataframe tbody tr th {\n",
              "        vertical-align: top;\n",
              "    }\n",
              "\n",
              "    .dataframe thead th {\n",
              "        text-align: right;\n",
              "    }\n",
              "</style>\n",
              "<table border=\"1\" class=\"dataframe\">\n",
              "  <thead>\n",
              "    <tr style=\"text-align: right;\">\n",
              "      <th></th>\n",
              "      <th>id</th>\n",
              "      <th>keywords</th>\n",
              "    </tr>\n",
              "  </thead>\n",
              "  <tbody>\n",
              "    <tr>\n",
              "      <th>0</th>\n",
              "      <td>862</td>\n",
              "      <td>[{'id': 931, 'name': 'jealousy'}, {'id': 4290,...</td>\n",
              "    </tr>\n",
              "    <tr>\n",
              "      <th>1</th>\n",
              "      <td>8844</td>\n",
              "      <td>[{'id': 10090, 'name': 'board game'}, {'id': 1...</td>\n",
              "    </tr>\n",
              "    <tr>\n",
              "      <th>2</th>\n",
              "      <td>15602</td>\n",
              "      <td>[{'id': 1495, 'name': 'fishing'}, {'id': 12392...</td>\n",
              "    </tr>\n",
              "    <tr>\n",
              "      <th>3</th>\n",
              "      <td>31357</td>\n",
              "      <td>[{'id': 818, 'name': 'based on novel'}, {'id':...</td>\n",
              "    </tr>\n",
              "    <tr>\n",
              "      <th>4</th>\n",
              "      <td>11862</td>\n",
              "      <td>[{'id': 1009, 'name': 'baby'}, {'id': 1599, 'n...</td>\n",
              "    </tr>\n",
              "  </tbody>\n",
              "</table>\n",
              "</div>"
            ],
            "text/plain": [
              "      id                                           keywords\n",
              "0    862  [{'id': 931, 'name': 'jealousy'}, {'id': 4290,...\n",
              "1   8844  [{'id': 10090, 'name': 'board game'}, {'id': 1...\n",
              "2  15602  [{'id': 1495, 'name': 'fishing'}, {'id': 12392...\n",
              "3  31357  [{'id': 818, 'name': 'based on novel'}, {'id':...\n",
              "4  11862  [{'id': 1009, 'name': 'baby'}, {'id': 1599, 'n..."
            ]
          },
          "metadata": {
            "tags": []
          },
          "execution_count": 10
        }
      ]
    },
    {
      "cell_type": "code",
      "metadata": {
        "colab": {
          "base_uri": "https://localhost:8080/"
        },
        "id": "ju13DONYHpgb",
        "outputId": "c874ae10-c16f-43e3-ca6d-fd3e12b2e940"
      },
      "source": [
        "keywords.columns"
      ],
      "execution_count": 11,
      "outputs": [
        {
          "output_type": "execute_result",
          "data": {
            "text/plain": [
              "Index(['id', 'keywords'], dtype='object')"
            ]
          },
          "metadata": {
            "tags": []
          },
          "execution_count": 11
        }
      ]
    },
    {
      "cell_type": "markdown",
      "metadata": {
        "id": "C2d398uhHpgb"
      },
      "source": [
        "* **id:** It's movie ID given by TMDb\n",
        "* **Keywords:** Tags/keywords for the movie. It list of tags/keywords "
      ]
    },
    {
      "cell_type": "code",
      "metadata": {
        "colab": {
          "base_uri": "https://localhost:8080/"
        },
        "id": "dOvCKhdhHpgb",
        "outputId": "d30a7a4a-e8db-47a0-9794-beab5cf03baa"
      },
      "source": [
        "keywords.shape"
      ],
      "execution_count": 12,
      "outputs": [
        {
          "output_type": "execute_result",
          "data": {
            "text/plain": [
              "(46419, 2)"
            ]
          },
          "metadata": {
            "tags": []
          },
          "execution_count": 12
        }
      ]
    },
    {
      "cell_type": "code",
      "metadata": {
        "colab": {
          "base_uri": "https://localhost:8080/"
        },
        "id": "AJad8muiHpgc",
        "outputId": "007383a7-ea46-4282-ee8a-604e40b2b761"
      },
      "source": [
        "keywords.info()"
      ],
      "execution_count": 13,
      "outputs": [
        {
          "output_type": "stream",
          "text": [
            "<class 'pandas.core.frame.DataFrame'>\n",
            "RangeIndex: 46419 entries, 0 to 46418\n",
            "Data columns (total 2 columns):\n",
            " #   Column    Non-Null Count  Dtype \n",
            "---  ------    --------------  ----- \n",
            " 0   id        46419 non-null  int64 \n",
            " 1   keywords  46419 non-null  object\n",
            "dtypes: int64(1), object(1)\n",
            "memory usage: 725.4+ KB\n"
          ],
          "name": "stdout"
        }
      ]
    },
    {
      "cell_type": "markdown",
      "metadata": {
        "id": "WP2FUyFTHpgc"
      },
      "source": [
        "#### Link dataframe"
      ]
    },
    {
      "cell_type": "code",
      "metadata": {
        "colab": {
          "base_uri": "https://localhost:8080/",
          "height": 203
        },
        "id": "VyTNuwR8Hpgc",
        "outputId": "a5790e46-eb95-4c4a-ee78-53cab5d36ea0"
      },
      "source": [
        "links_small.head()"
      ],
      "execution_count": 14,
      "outputs": [
        {
          "output_type": "execute_result",
          "data": {
            "text/html": [
              "<div>\n",
              "<style scoped>\n",
              "    .dataframe tbody tr th:only-of-type {\n",
              "        vertical-align: middle;\n",
              "    }\n",
              "\n",
              "    .dataframe tbody tr th {\n",
              "        vertical-align: top;\n",
              "    }\n",
              "\n",
              "    .dataframe thead th {\n",
              "        text-align: right;\n",
              "    }\n",
              "</style>\n",
              "<table border=\"1\" class=\"dataframe\">\n",
              "  <thead>\n",
              "    <tr style=\"text-align: right;\">\n",
              "      <th></th>\n",
              "      <th>movieId</th>\n",
              "      <th>imdbId</th>\n",
              "      <th>tmdbId</th>\n",
              "    </tr>\n",
              "  </thead>\n",
              "  <tbody>\n",
              "    <tr>\n",
              "      <th>0</th>\n",
              "      <td>1</td>\n",
              "      <td>114709</td>\n",
              "      <td>862.0</td>\n",
              "    </tr>\n",
              "    <tr>\n",
              "      <th>1</th>\n",
              "      <td>2</td>\n",
              "      <td>113497</td>\n",
              "      <td>8844.0</td>\n",
              "    </tr>\n",
              "    <tr>\n",
              "      <th>2</th>\n",
              "      <td>3</td>\n",
              "      <td>113228</td>\n",
              "      <td>15602.0</td>\n",
              "    </tr>\n",
              "    <tr>\n",
              "      <th>3</th>\n",
              "      <td>4</td>\n",
              "      <td>114885</td>\n",
              "      <td>31357.0</td>\n",
              "    </tr>\n",
              "    <tr>\n",
              "      <th>4</th>\n",
              "      <td>5</td>\n",
              "      <td>113041</td>\n",
              "      <td>11862.0</td>\n",
              "    </tr>\n",
              "  </tbody>\n",
              "</table>\n",
              "</div>"
            ],
            "text/plain": [
              "   movieId  imdbId   tmdbId\n",
              "0        1  114709    862.0\n",
              "1        2  113497   8844.0\n",
              "2        3  113228  15602.0\n",
              "3        4  114885  31357.0\n",
              "4        5  113041  11862.0"
            ]
          },
          "metadata": {
            "tags": []
          },
          "execution_count": 14
        }
      ]
    },
    {
      "cell_type": "code",
      "metadata": {
        "colab": {
          "base_uri": "https://localhost:8080/"
        },
        "id": "qlD65mJhHpgc",
        "outputId": "d446eb90-ba2c-4f42-eec8-70a8e10d468f"
      },
      "source": [
        "links_small.columns"
      ],
      "execution_count": 15,
      "outputs": [
        {
          "output_type": "execute_result",
          "data": {
            "text/plain": [
              "Index(['movieId', 'imdbId', 'tmdbId'], dtype='object')"
            ]
          },
          "metadata": {
            "tags": []
          },
          "execution_count": 15
        }
      ]
    },
    {
      "cell_type": "markdown",
      "metadata": {
        "id": "1naxfb6mHpgd"
      },
      "source": [
        "* **movieId:** It's serial number for movie\n",
        "* **imdbId:** Movie id given on IMDb platform\n",
        "* **tmdbId**: Movie id given on TMDb platform"
      ]
    },
    {
      "cell_type": "code",
      "metadata": {
        "colab": {
          "base_uri": "https://localhost:8080/"
        },
        "id": "pY5hRjcOHpgd",
        "outputId": "2f3d7dfc-9e0a-4689-d21e-5152ab499fb7"
      },
      "source": [
        "links_small.shape"
      ],
      "execution_count": 16,
      "outputs": [
        {
          "output_type": "execute_result",
          "data": {
            "text/plain": [
              "(9125, 3)"
            ]
          },
          "metadata": {
            "tags": []
          },
          "execution_count": 16
        }
      ]
    },
    {
      "cell_type": "code",
      "metadata": {
        "colab": {
          "base_uri": "https://localhost:8080/"
        },
        "id": "d4b3vSgrHpgd",
        "outputId": "de5a56eb-ac22-4003-f14d-398417250ac7"
      },
      "source": [
        "links_small.info()"
      ],
      "execution_count": 17,
      "outputs": [
        {
          "output_type": "stream",
          "text": [
            "<class 'pandas.core.frame.DataFrame'>\n",
            "RangeIndex: 9125 entries, 0 to 9124\n",
            "Data columns (total 3 columns):\n",
            " #   Column   Non-Null Count  Dtype  \n",
            "---  ------   --------------  -----  \n",
            " 0   movieId  9125 non-null   int64  \n",
            " 1   imdbId   9125 non-null   int64  \n",
            " 2   tmdbId   9112 non-null   float64\n",
            "dtypes: float64(1), int64(2)\n",
            "memory usage: 214.0 KB\n"
          ],
          "name": "stdout"
        }
      ]
    },
    {
      "cell_type": "markdown",
      "metadata": {
        "id": "aQRtBXtxHpgd"
      },
      "source": [
        "#### Metadata dataframe"
      ]
    },
    {
      "cell_type": "code",
      "metadata": {
        "colab": {
          "base_uri": "https://localhost:8080/",
          "height": 788
        },
        "id": "F-an3201Hpgd",
        "outputId": "102c5b5d-9daf-4c73-83b7-02eff3bdf138"
      },
      "source": [
        "md.iloc[0:3].transpose()"
      ],
      "execution_count": 18,
      "outputs": [
        {
          "output_type": "execute_result",
          "data": {
            "text/html": [
              "<div>\n",
              "<style scoped>\n",
              "    .dataframe tbody tr th:only-of-type {\n",
              "        vertical-align: middle;\n",
              "    }\n",
              "\n",
              "    .dataframe tbody tr th {\n",
              "        vertical-align: top;\n",
              "    }\n",
              "\n",
              "    .dataframe thead th {\n",
              "        text-align: right;\n",
              "    }\n",
              "</style>\n",
              "<table border=\"1\" class=\"dataframe\">\n",
              "  <thead>\n",
              "    <tr style=\"text-align: right;\">\n",
              "      <th></th>\n",
              "      <th>0</th>\n",
              "      <th>1</th>\n",
              "      <th>2</th>\n",
              "    </tr>\n",
              "  </thead>\n",
              "  <tbody>\n",
              "    <tr>\n",
              "      <th>adult</th>\n",
              "      <td>False</td>\n",
              "      <td>False</td>\n",
              "      <td>False</td>\n",
              "    </tr>\n",
              "    <tr>\n",
              "      <th>belongs_to_collection</th>\n",
              "      <td>{'id': 10194, 'name': 'Toy Story Collection', ...</td>\n",
              "      <td>NaN</td>\n",
              "      <td>{'id': 119050, 'name': 'Grumpy Old Men Collect...</td>\n",
              "    </tr>\n",
              "    <tr>\n",
              "      <th>budget</th>\n",
              "      <td>30000000</td>\n",
              "      <td>65000000</td>\n",
              "      <td>0</td>\n",
              "    </tr>\n",
              "    <tr>\n",
              "      <th>genres</th>\n",
              "      <td>[{'id': 16, 'name': 'Animation'}, {'id': 35, '...</td>\n",
              "      <td>[{'id': 12, 'name': 'Adventure'}, {'id': 14, '...</td>\n",
              "      <td>[{'id': 10749, 'name': 'Romance'}, {'id': 35, ...</td>\n",
              "    </tr>\n",
              "    <tr>\n",
              "      <th>homepage</th>\n",
              "      <td>http://toystory.disney.com/toy-story</td>\n",
              "      <td>NaN</td>\n",
              "      <td>NaN</td>\n",
              "    </tr>\n",
              "    <tr>\n",
              "      <th>id</th>\n",
              "      <td>862</td>\n",
              "      <td>8844</td>\n",
              "      <td>15602</td>\n",
              "    </tr>\n",
              "    <tr>\n",
              "      <th>imdb_id</th>\n",
              "      <td>tt0114709</td>\n",
              "      <td>tt0113497</td>\n",
              "      <td>tt0113228</td>\n",
              "    </tr>\n",
              "    <tr>\n",
              "      <th>original_language</th>\n",
              "      <td>en</td>\n",
              "      <td>en</td>\n",
              "      <td>en</td>\n",
              "    </tr>\n",
              "    <tr>\n",
              "      <th>original_title</th>\n",
              "      <td>Toy Story</td>\n",
              "      <td>Jumanji</td>\n",
              "      <td>Grumpier Old Men</td>\n",
              "    </tr>\n",
              "    <tr>\n",
              "      <th>overview</th>\n",
              "      <td>Led by Woody, Andy's toys live happily in his ...</td>\n",
              "      <td>When siblings Judy and Peter discover an encha...</td>\n",
              "      <td>A family wedding reignites the ancient feud be...</td>\n",
              "    </tr>\n",
              "    <tr>\n",
              "      <th>popularity</th>\n",
              "      <td>21.9469</td>\n",
              "      <td>17.0155</td>\n",
              "      <td>11.7129</td>\n",
              "    </tr>\n",
              "    <tr>\n",
              "      <th>poster_path</th>\n",
              "      <td>/rhIRbceoE9lR4veEXuwCC2wARtG.jpg</td>\n",
              "      <td>/vzmL6fP7aPKNKPRTFnZmiUfciyV.jpg</td>\n",
              "      <td>/6ksm1sjKMFLbO7UY2i6G1ju9SML.jpg</td>\n",
              "    </tr>\n",
              "    <tr>\n",
              "      <th>production_companies</th>\n",
              "      <td>[{'name': 'Pixar Animation Studios', 'id': 3}]</td>\n",
              "      <td>[{'name': 'TriStar Pictures', 'id': 559}, {'na...</td>\n",
              "      <td>[{'name': 'Warner Bros.', 'id': 6194}, {'name'...</td>\n",
              "    </tr>\n",
              "    <tr>\n",
              "      <th>production_countries</th>\n",
              "      <td>[{'iso_3166_1': 'US', 'name': 'United States o...</td>\n",
              "      <td>[{'iso_3166_1': 'US', 'name': 'United States o...</td>\n",
              "      <td>[{'iso_3166_1': 'US', 'name': 'United States o...</td>\n",
              "    </tr>\n",
              "    <tr>\n",
              "      <th>release_date</th>\n",
              "      <td>1995-10-30</td>\n",
              "      <td>1995-12-15</td>\n",
              "      <td>1995-12-22</td>\n",
              "    </tr>\n",
              "    <tr>\n",
              "      <th>revenue</th>\n",
              "      <td>3.73554e+08</td>\n",
              "      <td>2.62797e+08</td>\n",
              "      <td>0</td>\n",
              "    </tr>\n",
              "    <tr>\n",
              "      <th>runtime</th>\n",
              "      <td>81</td>\n",
              "      <td>104</td>\n",
              "      <td>101</td>\n",
              "    </tr>\n",
              "    <tr>\n",
              "      <th>spoken_languages</th>\n",
              "      <td>[{'iso_639_1': 'en', 'name': 'English'}]</td>\n",
              "      <td>[{'iso_639_1': 'en', 'name': 'English'}, {'iso...</td>\n",
              "      <td>[{'iso_639_1': 'en', 'name': 'English'}]</td>\n",
              "    </tr>\n",
              "    <tr>\n",
              "      <th>status</th>\n",
              "      <td>Released</td>\n",
              "      <td>Released</td>\n",
              "      <td>Released</td>\n",
              "    </tr>\n",
              "    <tr>\n",
              "      <th>tagline</th>\n",
              "      <td>NaN</td>\n",
              "      <td>Roll the dice and unleash the excitement!</td>\n",
              "      <td>Still Yelling. Still Fighting. Still Ready for...</td>\n",
              "    </tr>\n",
              "    <tr>\n",
              "      <th>title</th>\n",
              "      <td>Toy Story</td>\n",
              "      <td>Jumanji</td>\n",
              "      <td>Grumpier Old Men</td>\n",
              "    </tr>\n",
              "    <tr>\n",
              "      <th>video</th>\n",
              "      <td>False</td>\n",
              "      <td>False</td>\n",
              "      <td>False</td>\n",
              "    </tr>\n",
              "    <tr>\n",
              "      <th>vote_average</th>\n",
              "      <td>7.7</td>\n",
              "      <td>6.9</td>\n",
              "      <td>6.5</td>\n",
              "    </tr>\n",
              "    <tr>\n",
              "      <th>vote_count</th>\n",
              "      <td>5415</td>\n",
              "      <td>2413</td>\n",
              "      <td>92</td>\n",
              "    </tr>\n",
              "  </tbody>\n",
              "</table>\n",
              "</div>"
            ],
            "text/plain": [
              "                                                                       0  ...                                                  2\n",
              "adult                                                              False  ...                                              False\n",
              "belongs_to_collection  {'id': 10194, 'name': 'Toy Story Collection', ...  ...  {'id': 119050, 'name': 'Grumpy Old Men Collect...\n",
              "budget                                                          30000000  ...                                                  0\n",
              "genres                 [{'id': 16, 'name': 'Animation'}, {'id': 35, '...  ...  [{'id': 10749, 'name': 'Romance'}, {'id': 35, ...\n",
              "homepage                            http://toystory.disney.com/toy-story  ...                                                NaN\n",
              "id                                                                   862  ...                                              15602\n",
              "imdb_id                                                        tt0114709  ...                                          tt0113228\n",
              "original_language                                                     en  ...                                                 en\n",
              "original_title                                                 Toy Story  ...                                   Grumpier Old Men\n",
              "overview               Led by Woody, Andy's toys live happily in his ...  ...  A family wedding reignites the ancient feud be...\n",
              "popularity                                                       21.9469  ...                                            11.7129\n",
              "poster_path                             /rhIRbceoE9lR4veEXuwCC2wARtG.jpg  ...                   /6ksm1sjKMFLbO7UY2i6G1ju9SML.jpg\n",
              "production_companies      [{'name': 'Pixar Animation Studios', 'id': 3}]  ...  [{'name': 'Warner Bros.', 'id': 6194}, {'name'...\n",
              "production_countries   [{'iso_3166_1': 'US', 'name': 'United States o...  ...  [{'iso_3166_1': 'US', 'name': 'United States o...\n",
              "release_date                                                  1995-10-30  ...                                         1995-12-22\n",
              "revenue                                                      3.73554e+08  ...                                                  0\n",
              "runtime                                                               81  ...                                                101\n",
              "spoken_languages                [{'iso_639_1': 'en', 'name': 'English'}]  ...           [{'iso_639_1': 'en', 'name': 'English'}]\n",
              "status                                                          Released  ...                                           Released\n",
              "tagline                                                              NaN  ...  Still Yelling. Still Fighting. Still Ready for...\n",
              "title                                                          Toy Story  ...                                   Grumpier Old Men\n",
              "video                                                              False  ...                                              False\n",
              "vote_average                                                         7.7  ...                                                6.5\n",
              "vote_count                                                          5415  ...                                                 92\n",
              "\n",
              "[24 rows x 3 columns]"
            ]
          },
          "metadata": {
            "tags": []
          },
          "execution_count": 18
        }
      ]
    },
    {
      "cell_type": "code",
      "metadata": {
        "colab": {
          "base_uri": "https://localhost:8080/"
        },
        "id": "QslYHXvSHpge",
        "outputId": "feaada30-99df-41f6-a2c7-a568abddeea1"
      },
      "source": [
        "md.columns"
      ],
      "execution_count": 19,
      "outputs": [
        {
          "output_type": "execute_result",
          "data": {
            "text/plain": [
              "Index(['adult', 'belongs_to_collection', 'budget', 'genres', 'homepage', 'id',\n",
              "       'imdb_id', 'original_language', 'original_title', 'overview',\n",
              "       'popularity', 'poster_path', 'production_companies',\n",
              "       'production_countries', 'release_date', 'revenue', 'runtime',\n",
              "       'spoken_languages', 'status', 'tagline', 'title', 'video',\n",
              "       'vote_average', 'vote_count'],\n",
              "      dtype='object')"
            ]
          },
          "metadata": {
            "tags": []
          },
          "execution_count": 19
        }
      ]
    },
    {
      "cell_type": "markdown",
      "metadata": {
        "id": "eXU4sqU3Hpge"
      },
      "source": [
        "**Features**\n",
        "\n",
        "* **adult:** Indicates if the movie is X-Rated or Adult.\n",
        "* **belongs_to_collection:** A stringified dictionary that gives information on the movie series the particular film belongs to.\n",
        "* **budget:** The budget of the movie in dollars.\n",
        "* **genres:** A stringified list of dictionaries that list out all the genres associated with the movie.\n",
        "* **homepage:** The Official Homepage of the move.\n",
        "* **id:** The ID of the movie.\n",
        "* **imdb_id:** The IMDB ID of the movie.\n",
        "* **original_language:** The language in which the movie was originally shot in.\n",
        "* **original_title:** The original title of the movie.\n",
        "* **overview:** A brief blurb of the movie.\n",
        "* **popularity:** The Popularity Score assigned by TMDB.\n",
        "* **poster_path:** The URL of the poster image.\n",
        "* **production_companies:** A stringified list of production companies involved with the making of the movie.\n",
        "* **production_countries:** A stringified list of countries where the movie was shot/produced in.\n",
        "* **release_date:** Theatrical Release Date of the movie.\n",
        "* **revenue:** The total revenue of the movie in dollars.\n",
        "* **runtime:** The runtime of the movie in minutes.\n",
        "* **spoken_languages:** A stringified list of spoken languages in the film.\n",
        "* **status:** The status of the movie (Released, To Be Released, Announced, etc.)\n",
        "* **tagline:** The tagline of the movie.\n",
        "* **title:** The Official Title of the movie.\n",
        "* **video:** Indicates if there is a video present of the movie with TMDB.\n",
        "* **vote_average:** The average rating of the movie.\n",
        "* **vote_count:** The number of votes by users, as counted by TMDB."
      ]
    },
    {
      "cell_type": "code",
      "metadata": {
        "colab": {
          "base_uri": "https://localhost:8080/"
        },
        "id": "LXKS5FujHpge",
        "outputId": "8308e1cd-a120-4cd8-ca7a-9feeb461a757"
      },
      "source": [
        "md.shape"
      ],
      "execution_count": 20,
      "outputs": [
        {
          "output_type": "execute_result",
          "data": {
            "text/plain": [
              "(45466, 24)"
            ]
          },
          "metadata": {
            "tags": []
          },
          "execution_count": 20
        }
      ]
    },
    {
      "cell_type": "code",
      "metadata": {
        "colab": {
          "base_uri": "https://localhost:8080/"
        },
        "id": "5uNhFNDKHpgf",
        "outputId": "a4fcd223-c24d-448c-ba70-b4fe0314f9e9"
      },
      "source": [
        "md.info()"
      ],
      "execution_count": 21,
      "outputs": [
        {
          "output_type": "stream",
          "text": [
            "<class 'pandas.core.frame.DataFrame'>\n",
            "RangeIndex: 45466 entries, 0 to 45465\n",
            "Data columns (total 24 columns):\n",
            " #   Column                 Non-Null Count  Dtype  \n",
            "---  ------                 --------------  -----  \n",
            " 0   adult                  45466 non-null  object \n",
            " 1   belongs_to_collection  4494 non-null   object \n",
            " 2   budget                 45466 non-null  object \n",
            " 3   genres                 45466 non-null  object \n",
            " 4   homepage               7782 non-null   object \n",
            " 5   id                     45466 non-null  object \n",
            " 6   imdb_id                45449 non-null  object \n",
            " 7   original_language      45455 non-null  object \n",
            " 8   original_title         45466 non-null  object \n",
            " 9   overview               44512 non-null  object \n",
            " 10  popularity             45461 non-null  object \n",
            " 11  poster_path            45080 non-null  object \n",
            " 12  production_companies   45463 non-null  object \n",
            " 13  production_countries   45463 non-null  object \n",
            " 14  release_date           45379 non-null  object \n",
            " 15  revenue                45460 non-null  float64\n",
            " 16  runtime                45203 non-null  float64\n",
            " 17  spoken_languages       45460 non-null  object \n",
            " 18  status                 45379 non-null  object \n",
            " 19  tagline                20412 non-null  object \n",
            " 20  title                  45460 non-null  object \n",
            " 21  video                  45460 non-null  object \n",
            " 22  vote_average           45460 non-null  float64\n",
            " 23  vote_count             45460 non-null  float64\n",
            "dtypes: float64(4), object(20)\n",
            "memory usage: 8.3+ MB\n"
          ],
          "name": "stdout"
        }
      ]
    },
    {
      "cell_type": "markdown",
      "metadata": {
        "id": "2JsTi58gHpgf"
      },
      "source": [
        "#### Ratings dataframe"
      ]
    },
    {
      "cell_type": "code",
      "metadata": {
        "colab": {
          "base_uri": "https://localhost:8080/",
          "height": 203
        },
        "id": "Sgv_jtjCHpgf",
        "outputId": "d28b3fb7-ed83-43c1-a2a8-252318e8648a"
      },
      "source": [
        "ratings.head()"
      ],
      "execution_count": 22,
      "outputs": [
        {
          "output_type": "execute_result",
          "data": {
            "text/html": [
              "<div>\n",
              "<style scoped>\n",
              "    .dataframe tbody tr th:only-of-type {\n",
              "        vertical-align: middle;\n",
              "    }\n",
              "\n",
              "    .dataframe tbody tr th {\n",
              "        vertical-align: top;\n",
              "    }\n",
              "\n",
              "    .dataframe thead th {\n",
              "        text-align: right;\n",
              "    }\n",
              "</style>\n",
              "<table border=\"1\" class=\"dataframe\">\n",
              "  <thead>\n",
              "    <tr style=\"text-align: right;\">\n",
              "      <th></th>\n",
              "      <th>userId</th>\n",
              "      <th>movieId</th>\n",
              "      <th>rating</th>\n",
              "      <th>timestamp</th>\n",
              "    </tr>\n",
              "  </thead>\n",
              "  <tbody>\n",
              "    <tr>\n",
              "      <th>0</th>\n",
              "      <td>1</td>\n",
              "      <td>31</td>\n",
              "      <td>2.5</td>\n",
              "      <td>1260759144</td>\n",
              "    </tr>\n",
              "    <tr>\n",
              "      <th>1</th>\n",
              "      <td>1</td>\n",
              "      <td>1029</td>\n",
              "      <td>3.0</td>\n",
              "      <td>1260759179</td>\n",
              "    </tr>\n",
              "    <tr>\n",
              "      <th>2</th>\n",
              "      <td>1</td>\n",
              "      <td>1061</td>\n",
              "      <td>3.0</td>\n",
              "      <td>1260759182</td>\n",
              "    </tr>\n",
              "    <tr>\n",
              "      <th>3</th>\n",
              "      <td>1</td>\n",
              "      <td>1129</td>\n",
              "      <td>2.0</td>\n",
              "      <td>1260759185</td>\n",
              "    </tr>\n",
              "    <tr>\n",
              "      <th>4</th>\n",
              "      <td>1</td>\n",
              "      <td>1172</td>\n",
              "      <td>4.0</td>\n",
              "      <td>1260759205</td>\n",
              "    </tr>\n",
              "  </tbody>\n",
              "</table>\n",
              "</div>"
            ],
            "text/plain": [
              "   userId  movieId  rating   timestamp\n",
              "0       1       31     2.5  1260759144\n",
              "1       1     1029     3.0  1260759179\n",
              "2       1     1061     3.0  1260759182\n",
              "3       1     1129     2.0  1260759185\n",
              "4       1     1172     4.0  1260759205"
            ]
          },
          "metadata": {
            "tags": []
          },
          "execution_count": 22
        }
      ]
    },
    {
      "cell_type": "code",
      "metadata": {
        "colab": {
          "base_uri": "https://localhost:8080/"
        },
        "id": "NWCSlldIHpgf",
        "outputId": "63599213-bdfe-4265-f775-3d5a383a5091"
      },
      "source": [
        "ratings.columns"
      ],
      "execution_count": 23,
      "outputs": [
        {
          "output_type": "execute_result",
          "data": {
            "text/plain": [
              "Index(['userId', 'movieId', 'rating', 'timestamp'], dtype='object')"
            ]
          },
          "metadata": {
            "tags": []
          },
          "execution_count": 23
        }
      ]
    },
    {
      "cell_type": "markdown",
      "metadata": {
        "id": "oQyyXpuFHpgf"
      },
      "source": [
        "* **userId:** It is id for User\n",
        "* **movieId:** It is TMDb movie id.\n",
        "* **rating:** Rating given for the particular movie by specific user\n",
        "* **timestamp:** Time stamp when rating has been given by user"
      ]
    },
    {
      "cell_type": "code",
      "metadata": {
        "colab": {
          "base_uri": "https://localhost:8080/"
        },
        "id": "uZ814fp9Hpgi",
        "outputId": "ec6fe8af-9a84-4344-c303-7fcd011d343b"
      },
      "source": [
        "ratings.shape"
      ],
      "execution_count": 24,
      "outputs": [
        {
          "output_type": "execute_result",
          "data": {
            "text/plain": [
              "(100004, 4)"
            ]
          },
          "metadata": {
            "tags": []
          },
          "execution_count": 24
        }
      ]
    },
    {
      "cell_type": "code",
      "metadata": {
        "colab": {
          "base_uri": "https://localhost:8080/"
        },
        "id": "7khswIMkHpgi",
        "outputId": "95df47c1-6dfb-41ff-d3a5-e86cca187595"
      },
      "source": [
        "ratings.info()"
      ],
      "execution_count": 25,
      "outputs": [
        {
          "output_type": "stream",
          "text": [
            "<class 'pandas.core.frame.DataFrame'>\n",
            "RangeIndex: 100004 entries, 0 to 100003\n",
            "Data columns (total 4 columns):\n",
            " #   Column     Non-Null Count   Dtype  \n",
            "---  ------     --------------   -----  \n",
            " 0   userId     100004 non-null  int64  \n",
            " 1   movieId    100004 non-null  int64  \n",
            " 2   rating     100004 non-null  float64\n",
            " 3   timestamp  100004 non-null  int64  \n",
            "dtypes: float64(1), int64(3)\n",
            "memory usage: 3.1 MB\n"
          ],
          "name": "stdout"
        }
      ]
    },
    {
      "cell_type": "markdown",
      "metadata": {
        "id": "5jqStftLHpgj"
      },
      "source": [
        "## 4. Data Wrangling"
      ]
    },
    {
      "cell_type": "markdown",
      "metadata": {
        "id": "NAL8luVhHpgj"
      },
      "source": [
        "* The Movie database [TMDb](https://www.themoviedb.org/movie/269149-zootopia?language=en)\n",
        "* Already converted data from json to csv format"
      ]
    },
    {
      "cell_type": "markdown",
      "metadata": {
        "id": "_Dv6fqccHpgj"
      },
      "source": [
        "## 5. Pre-processing \n",
        "\n",
        "* We will perform pre-processing as and when needed throughout the "
      ]
    },
    {
      "cell_type": "markdown",
      "metadata": {
        "id": "3XGGmtX0Hpgj"
      },
      "source": [
        "## 6. Build recommendation system"
      ]
    },
    {
      "cell_type": "markdown",
      "metadata": {
        "id": "k2OQHci8Hpgj"
      },
      "source": [
        "### 6.1. Simple recommendation system"
      ]
    },
    {
      "cell_type": "markdown",
      "metadata": {
        "id": "LE-Ixem9Hpgj"
      },
      "source": [
        "**Approach: **\n",
        "\n",
        "* The Simple Recommender offers __generalized recommendations__ to every user __based on movie popularity and (sometimes) genre__. \n",
        "\n",
        "* The __basic idea__ behind this recommender is that __movies that are more popular and more critically acclaimed will have a higher probability of being liked by the average audience.__ \n",
        "\n",
        "* This model __does not give personalized recommendations__ based on the user.\n",
        "\n"
      ]
    },
    {
      "cell_type": "markdown",
      "metadata": {
        "id": "G9A2MxeQHpgj"
      },
      "source": [
        "**What we are actually doing: **\n",
        "\n",
        "* The implementation of this model is extremely trivial. \n",
        "* All we have to do is __sort our movies based on ratings and popularity__ and display the top movies of our list. \n",
        "* As an added step, we can __pass in a genre argument to get the top movies of a particular genre.__"
      ]
    },
    {
      "cell_type": "markdown",
      "metadata": {
        "id": "9NYGSyN6Hpgk"
      },
      "source": [
        "I will build our overall Top 250 Chart and will define a function to build charts for a particular genre. Let's begin!"
      ]
    },
    {
      "cell_type": "code",
      "metadata": {
        "id": "5abCvWJlHpgk"
      },
      "source": [
        "md['genres'] = md['genres'].fillna('[]').apply(literal_eval).apply(lambda x: [i[\n",
        "    'name'] for i in x] if isinstance(x, list) else [])"
      ],
      "execution_count": 26,
      "outputs": []
    },
    {
      "cell_type": "markdown",
      "metadata": {
        "id": "LVjPnJvNHpgk"
      },
      "source": [
        "* I use the TMDB Ratings to come up with our Top Movies Chart. \n",
        "* I will use IMDB's weighted rating formula to construct my chart.\n",
        "* Mathematically, it is represented as follows:"
      ]
    },
    {
      "cell_type": "markdown",
      "metadata": {
        "id": "6PS_rYDhHpgk"
      },
      "source": [
        "\n",
        "\n",
        "$\\large Weighted\\; Rating (WR) = (\\frac{v}{v + m} . R) + (\\frac{m}{v + m} . C)$\n",
        "```\n",
        "where,\n",
        "    v is the number of votes for the movie\n",
        "    m is the minimum votes required to be listed in the chart\n",
        "    R is the average rating of the movie\n",
        "    C is the mean vote across the whole report\n",
        "```"
      ]
    },
    {
      "cell_type": "code",
      "metadata": {
        "colab": {
          "base_uri": "https://localhost:8080/"
        },
        "id": "CIfTuecCHpgl",
        "outputId": "8a4ae5bb-6550-46b2-f36c-b143899ea680"
      },
      "source": [
        "# this is V\n",
        "vote_counts = md[md['vote_count'].notnull()]['vote_count'].astype('int')\n",
        "\n",
        "# this is R\n",
        "vote_averages = md[md['vote_average'].notnull()]['vote_average'].astype('int')\n",
        "\n",
        "# this is C\n",
        "C = vote_averages.mean()\n",
        "C"
      ],
      "execution_count": 27,
      "outputs": [
        {
          "output_type": "execute_result",
          "data": {
            "text/plain": [
              "5.244896612406511"
            ]
          },
          "metadata": {
            "tags": []
          },
          "execution_count": 27
        }
      ]
    },
    {
      "cell_type": "markdown",
      "metadata": {
        "id": "8y4VStu5Hpgl"
      },
      "source": [
        "* The next step, we need to determine an appropriate value for `m`, the minimum votes required to be listed in the chart. \n",
        "\n",
        "* We will use 95th percentile as our cutoff. In other words, for a movie to feature in the charts, it must have more votes than at least 95% of the movies in the list.\n",
        "\n"
      ]
    },
    {
      "cell_type": "code",
      "metadata": {
        "colab": {
          "base_uri": "https://localhost:8080/"
        },
        "id": "OEq6rbQ6Hpgl",
        "outputId": "b4d7f694-663d-4b92-f03b-d8d55647d8ba"
      },
      "source": [
        "m = vote_counts.quantile(0.95)\n",
        "m"
      ],
      "execution_count": 28,
      "outputs": [
        {
          "output_type": "execute_result",
          "data": {
            "text/plain": [
              "434.0"
            ]
          },
          "metadata": {
            "tags": []
          },
          "execution_count": 28
        }
      ]
    },
    {
      "cell_type": "code",
      "metadata": {
        "id": "t8dxHebeHpgm"
      },
      "source": [
        "# Pre-processing step for getting year from date by splliting it using '-'\n",
        "\n",
        "md['year'] = pd.to_datetime(md['release_date'], errors='coerce').apply(\n",
        "    lambda x: str(x).split('-')[0] if x != np.nan else np.nan)"
      ],
      "execution_count": 29,
      "outputs": []
    },
    {
      "cell_type": "code",
      "metadata": {
        "colab": {
          "base_uri": "https://localhost:8080/"
        },
        "id": "pq9UZ4uaHpgm",
        "outputId": "28837420-b941-40fa-caaf-28813e1fb3cd"
      },
      "source": [
        "qualified = md[(md['vote_count'] >= m) & \n",
        "               (md['vote_count'].notnull()) & \n",
        "               (md['vote_average'].notnull())][['title', \n",
        "                                                'year', \n",
        "                                                'vote_count', \n",
        "                                                'vote_average', \n",
        "                                                'popularity', \n",
        "                                                'genres']]\n",
        "\n",
        "qualified['vote_count'] = qualified['vote_count'].astype('int')\n",
        "qualified['vote_average'] = qualified['vote_average'].astype('int')\n",
        "qualified.shape"
      ],
      "execution_count": 30,
      "outputs": [
        {
          "output_type": "execute_result",
          "data": {
            "text/plain": [
              "(2274, 6)"
            ]
          },
          "metadata": {
            "tags": []
          },
          "execution_count": 30
        }
      ]
    },
    {
      "cell_type": "markdown",
      "metadata": {
        "id": "eNmympb9Hpgm"
      },
      "source": [
        "* Therefore, to qualify to be considered for the chart, a movie has to have at least __434 votes__ on TMDB. \n",
        "* We also see that the __average rating__ for __a movie on TMDB__ is __5.244 on a scale of 10__. \n",
        "* Here, only __2274 movies__ are qualify to be on our chart."
      ]
    },
    {
      "cell_type": "code",
      "metadata": {
        "id": "u01IaA9BHpgm"
      },
      "source": [
        "def weighted_rating(x):\n",
        "    v = x['vote_count']\n",
        "    R = x['vote_average']\n",
        "    return (v/(v+m) * R) + (m/(m+v) * C)"
      ],
      "execution_count": 31,
      "outputs": []
    },
    {
      "cell_type": "code",
      "metadata": {
        "id": "g67v8zubHpgm"
      },
      "source": [
        "qualified['wr'] = qualified.apply(weighted_rating, axis=1)"
      ],
      "execution_count": 32,
      "outputs": []
    },
    {
      "cell_type": "code",
      "metadata": {
        "id": "aQnEYkG7Hpgn"
      },
      "source": [
        "qualified = qualified.sort_values('wr', ascending=False).head(250)"
      ],
      "execution_count": 33,
      "outputs": []
    },
    {
      "cell_type": "markdown",
      "metadata": {
        "id": "SBhbq7xtHpgn"
      },
      "source": [
        "**Top Movies**"
      ]
    },
    {
      "cell_type": "code",
      "metadata": {
        "colab": {
          "base_uri": "https://localhost:8080/",
          "height": 511
        },
        "id": "8SAfUaUNHpgn",
        "outputId": "15c4501c-18de-451d-c88f-045e8eff1197"
      },
      "source": [
        "qualified.head(15)"
      ],
      "execution_count": 34,
      "outputs": [
        {
          "output_type": "execute_result",
          "data": {
            "text/html": [
              "<div>\n",
              "<style scoped>\n",
              "    .dataframe tbody tr th:only-of-type {\n",
              "        vertical-align: middle;\n",
              "    }\n",
              "\n",
              "    .dataframe tbody tr th {\n",
              "        vertical-align: top;\n",
              "    }\n",
              "\n",
              "    .dataframe thead th {\n",
              "        text-align: right;\n",
              "    }\n",
              "</style>\n",
              "<table border=\"1\" class=\"dataframe\">\n",
              "  <thead>\n",
              "    <tr style=\"text-align: right;\">\n",
              "      <th></th>\n",
              "      <th>title</th>\n",
              "      <th>year</th>\n",
              "      <th>vote_count</th>\n",
              "      <th>vote_average</th>\n",
              "      <th>popularity</th>\n",
              "      <th>genres</th>\n",
              "      <th>wr</th>\n",
              "    </tr>\n",
              "  </thead>\n",
              "  <tbody>\n",
              "    <tr>\n",
              "      <th>15480</th>\n",
              "      <td>Inception</td>\n",
              "      <td>2010</td>\n",
              "      <td>14075</td>\n",
              "      <td>8</td>\n",
              "      <td>29.1081</td>\n",
              "      <td>[Action, Thriller, Science Fiction, Mystery, A...</td>\n",
              "      <td>7.917588</td>\n",
              "    </tr>\n",
              "    <tr>\n",
              "      <th>12481</th>\n",
              "      <td>The Dark Knight</td>\n",
              "      <td>2008</td>\n",
              "      <td>12269</td>\n",
              "      <td>8</td>\n",
              "      <td>123.167</td>\n",
              "      <td>[Drama, Action, Crime, Thriller]</td>\n",
              "      <td>7.905871</td>\n",
              "    </tr>\n",
              "    <tr>\n",
              "      <th>22879</th>\n",
              "      <td>Interstellar</td>\n",
              "      <td>2014</td>\n",
              "      <td>11187</td>\n",
              "      <td>8</td>\n",
              "      <td>32.2135</td>\n",
              "      <td>[Adventure, Drama, Science Fiction]</td>\n",
              "      <td>7.897107</td>\n",
              "    </tr>\n",
              "    <tr>\n",
              "      <th>2843</th>\n",
              "      <td>Fight Club</td>\n",
              "      <td>1999</td>\n",
              "      <td>9678</td>\n",
              "      <td>8</td>\n",
              "      <td>63.8696</td>\n",
              "      <td>[Drama]</td>\n",
              "      <td>7.881753</td>\n",
              "    </tr>\n",
              "    <tr>\n",
              "      <th>4863</th>\n",
              "      <td>The Lord of the Rings: The Fellowship of the Ring</td>\n",
              "      <td>2001</td>\n",
              "      <td>8892</td>\n",
              "      <td>8</td>\n",
              "      <td>32.0707</td>\n",
              "      <td>[Adventure, Fantasy, Action]</td>\n",
              "      <td>7.871787</td>\n",
              "    </tr>\n",
              "    <tr>\n",
              "      <th>292</th>\n",
              "      <td>Pulp Fiction</td>\n",
              "      <td>1994</td>\n",
              "      <td>8670</td>\n",
              "      <td>8</td>\n",
              "      <td>140.95</td>\n",
              "      <td>[Thriller, Crime]</td>\n",
              "      <td>7.868660</td>\n",
              "    </tr>\n",
              "    <tr>\n",
              "      <th>314</th>\n",
              "      <td>The Shawshank Redemption</td>\n",
              "      <td>1994</td>\n",
              "      <td>8358</td>\n",
              "      <td>8</td>\n",
              "      <td>51.6454</td>\n",
              "      <td>[Drama, Crime]</td>\n",
              "      <td>7.864000</td>\n",
              "    </tr>\n",
              "    <tr>\n",
              "      <th>7000</th>\n",
              "      <td>The Lord of the Rings: The Return of the King</td>\n",
              "      <td>2003</td>\n",
              "      <td>8226</td>\n",
              "      <td>8</td>\n",
              "      <td>29.3244</td>\n",
              "      <td>[Adventure, Fantasy, Action]</td>\n",
              "      <td>7.861927</td>\n",
              "    </tr>\n",
              "    <tr>\n",
              "      <th>351</th>\n",
              "      <td>Forrest Gump</td>\n",
              "      <td>1994</td>\n",
              "      <td>8147</td>\n",
              "      <td>8</td>\n",
              "      <td>48.3072</td>\n",
              "      <td>[Comedy, Drama, Romance]</td>\n",
              "      <td>7.860656</td>\n",
              "    </tr>\n",
              "    <tr>\n",
              "      <th>5814</th>\n",
              "      <td>The Lord of the Rings: The Two Towers</td>\n",
              "      <td>2002</td>\n",
              "      <td>7641</td>\n",
              "      <td>8</td>\n",
              "      <td>29.4235</td>\n",
              "      <td>[Adventure, Fantasy, Action]</td>\n",
              "      <td>7.851924</td>\n",
              "    </tr>\n",
              "    <tr>\n",
              "      <th>256</th>\n",
              "      <td>Star Wars</td>\n",
              "      <td>1977</td>\n",
              "      <td>6778</td>\n",
              "      <td>8</td>\n",
              "      <td>42.1497</td>\n",
              "      <td>[Adventure, Action, Science Fiction]</td>\n",
              "      <td>7.834205</td>\n",
              "    </tr>\n",
              "    <tr>\n",
              "      <th>1225</th>\n",
              "      <td>Back to the Future</td>\n",
              "      <td>1985</td>\n",
              "      <td>6239</td>\n",
              "      <td>8</td>\n",
              "      <td>25.7785</td>\n",
              "      <td>[Adventure, Comedy, Science Fiction, Family]</td>\n",
              "      <td>7.820813</td>\n",
              "    </tr>\n",
              "    <tr>\n",
              "      <th>834</th>\n",
              "      <td>The Godfather</td>\n",
              "      <td>1972</td>\n",
              "      <td>6024</td>\n",
              "      <td>8</td>\n",
              "      <td>41.1093</td>\n",
              "      <td>[Drama, Crime]</td>\n",
              "      <td>7.814847</td>\n",
              "    </tr>\n",
              "    <tr>\n",
              "      <th>1154</th>\n",
              "      <td>The Empire Strikes Back</td>\n",
              "      <td>1980</td>\n",
              "      <td>5998</td>\n",
              "      <td>8</td>\n",
              "      <td>19.471</td>\n",
              "      <td>[Adventure, Action, Science Fiction]</td>\n",
              "      <td>7.814099</td>\n",
              "    </tr>\n",
              "    <tr>\n",
              "      <th>46</th>\n",
              "      <td>Se7en</td>\n",
              "      <td>1995</td>\n",
              "      <td>5915</td>\n",
              "      <td>8</td>\n",
              "      <td>18.4574</td>\n",
              "      <td>[Crime, Mystery, Thriller]</td>\n",
              "      <td>7.811669</td>\n",
              "    </tr>\n",
              "  </tbody>\n",
              "</table>\n",
              "</div>"
            ],
            "text/plain": [
              "                                                   title  ...        wr\n",
              "15480                                          Inception  ...  7.917588\n",
              "12481                                    The Dark Knight  ...  7.905871\n",
              "22879                                       Interstellar  ...  7.897107\n",
              "2843                                          Fight Club  ...  7.881753\n",
              "4863   The Lord of the Rings: The Fellowship of the Ring  ...  7.871787\n",
              "292                                         Pulp Fiction  ...  7.868660\n",
              "314                             The Shawshank Redemption  ...  7.864000\n",
              "7000       The Lord of the Rings: The Return of the King  ...  7.861927\n",
              "351                                         Forrest Gump  ...  7.860656\n",
              "5814               The Lord of the Rings: The Two Towers  ...  7.851924\n",
              "256                                            Star Wars  ...  7.834205\n",
              "1225                                  Back to the Future  ...  7.820813\n",
              "834                                        The Godfather  ...  7.814847\n",
              "1154                             The Empire Strikes Back  ...  7.814099\n",
              "46                                                 Se7en  ...  7.811669\n",
              "\n",
              "[15 rows x 7 columns]"
            ]
          },
          "metadata": {
            "tags": []
          },
          "execution_count": 34
        }
      ]
    },
    {
      "cell_type": "markdown",
      "metadata": {
        "id": "pFqSdb4IHpgn"
      },
      "source": [
        "* We see that three Christopher Nolan Films, __Inception__, __The Dark Knight__ and __Interstellar__ occur at the very top of our chart. \n",
        "* The chart also indicates a strong bias of TMDB Users towards particular genres and directors."
      ]
    },
    {
      "cell_type": "markdown",
      "metadata": {
        "id": "b09LIrm_Hpgn"
      },
      "source": [
        "* Let us now construct our __function that builds charts for particular genres.__\n",
        "\n",
        "* For this, we __relax__ our __default conditions to the 85th percentile instead of 95.__"
      ]
    },
    {
      "cell_type": "code",
      "metadata": {
        "colab": {
          "base_uri": "https://localhost:8080/",
          "height": 819
        },
        "id": "GI80OULOHpgo",
        "outputId": "cc05f78a-dc72-46c8-cdb3-60915b49f726"
      },
      "source": [
        "'''\n",
        ">>> s\n",
        "     a   b\n",
        "one  1.  2.\n",
        "two  3.  4.\n",
        "\n",
        ">>> s.stack()\n",
        "one a    1\n",
        "    b    2\n",
        "two a    3\n",
        "    b    4\n",
        "'''\n",
        "s = md.apply(lambda x: pd.Series(x['genres']),axis=1).stack().reset_index(level=1, drop=True)\n",
        "s.name = 'genre'\n",
        "gen_md = md.drop('genres', axis=1).join(s)\n",
        "gen_md.head(3).transpose()"
      ],
      "execution_count": 35,
      "outputs": [
        {
          "output_type": "execute_result",
          "data": {
            "text/html": [
              "<div>\n",
              "<style scoped>\n",
              "    .dataframe tbody tr th:only-of-type {\n",
              "        vertical-align: middle;\n",
              "    }\n",
              "\n",
              "    .dataframe tbody tr th {\n",
              "        vertical-align: top;\n",
              "    }\n",
              "\n",
              "    .dataframe thead th {\n",
              "        text-align: right;\n",
              "    }\n",
              "</style>\n",
              "<table border=\"1\" class=\"dataframe\">\n",
              "  <thead>\n",
              "    <tr style=\"text-align: right;\">\n",
              "      <th></th>\n",
              "      <th>0</th>\n",
              "      <th>0</th>\n",
              "      <th>0</th>\n",
              "    </tr>\n",
              "  </thead>\n",
              "  <tbody>\n",
              "    <tr>\n",
              "      <th>adult</th>\n",
              "      <td>False</td>\n",
              "      <td>False</td>\n",
              "      <td>False</td>\n",
              "    </tr>\n",
              "    <tr>\n",
              "      <th>belongs_to_collection</th>\n",
              "      <td>{'id': 10194, 'name': 'Toy Story Collection', ...</td>\n",
              "      <td>{'id': 10194, 'name': 'Toy Story Collection', ...</td>\n",
              "      <td>{'id': 10194, 'name': 'Toy Story Collection', ...</td>\n",
              "    </tr>\n",
              "    <tr>\n",
              "      <th>budget</th>\n",
              "      <td>30000000</td>\n",
              "      <td>30000000</td>\n",
              "      <td>30000000</td>\n",
              "    </tr>\n",
              "    <tr>\n",
              "      <th>homepage</th>\n",
              "      <td>http://toystory.disney.com/toy-story</td>\n",
              "      <td>http://toystory.disney.com/toy-story</td>\n",
              "      <td>http://toystory.disney.com/toy-story</td>\n",
              "    </tr>\n",
              "    <tr>\n",
              "      <th>id</th>\n",
              "      <td>862</td>\n",
              "      <td>862</td>\n",
              "      <td>862</td>\n",
              "    </tr>\n",
              "    <tr>\n",
              "      <th>imdb_id</th>\n",
              "      <td>tt0114709</td>\n",
              "      <td>tt0114709</td>\n",
              "      <td>tt0114709</td>\n",
              "    </tr>\n",
              "    <tr>\n",
              "      <th>original_language</th>\n",
              "      <td>en</td>\n",
              "      <td>en</td>\n",
              "      <td>en</td>\n",
              "    </tr>\n",
              "    <tr>\n",
              "      <th>original_title</th>\n",
              "      <td>Toy Story</td>\n",
              "      <td>Toy Story</td>\n",
              "      <td>Toy Story</td>\n",
              "    </tr>\n",
              "    <tr>\n",
              "      <th>overview</th>\n",
              "      <td>Led by Woody, Andy's toys live happily in his ...</td>\n",
              "      <td>Led by Woody, Andy's toys live happily in his ...</td>\n",
              "      <td>Led by Woody, Andy's toys live happily in his ...</td>\n",
              "    </tr>\n",
              "    <tr>\n",
              "      <th>popularity</th>\n",
              "      <td>21.9469</td>\n",
              "      <td>21.9469</td>\n",
              "      <td>21.9469</td>\n",
              "    </tr>\n",
              "    <tr>\n",
              "      <th>poster_path</th>\n",
              "      <td>/rhIRbceoE9lR4veEXuwCC2wARtG.jpg</td>\n",
              "      <td>/rhIRbceoE9lR4veEXuwCC2wARtG.jpg</td>\n",
              "      <td>/rhIRbceoE9lR4veEXuwCC2wARtG.jpg</td>\n",
              "    </tr>\n",
              "    <tr>\n",
              "      <th>production_companies</th>\n",
              "      <td>[{'name': 'Pixar Animation Studios', 'id': 3}]</td>\n",
              "      <td>[{'name': 'Pixar Animation Studios', 'id': 3}]</td>\n",
              "      <td>[{'name': 'Pixar Animation Studios', 'id': 3}]</td>\n",
              "    </tr>\n",
              "    <tr>\n",
              "      <th>production_countries</th>\n",
              "      <td>[{'iso_3166_1': 'US', 'name': 'United States o...</td>\n",
              "      <td>[{'iso_3166_1': 'US', 'name': 'United States o...</td>\n",
              "      <td>[{'iso_3166_1': 'US', 'name': 'United States o...</td>\n",
              "    </tr>\n",
              "    <tr>\n",
              "      <th>release_date</th>\n",
              "      <td>1995-10-30</td>\n",
              "      <td>1995-10-30</td>\n",
              "      <td>1995-10-30</td>\n",
              "    </tr>\n",
              "    <tr>\n",
              "      <th>revenue</th>\n",
              "      <td>3.73554e+08</td>\n",
              "      <td>3.73554e+08</td>\n",
              "      <td>3.73554e+08</td>\n",
              "    </tr>\n",
              "    <tr>\n",
              "      <th>runtime</th>\n",
              "      <td>81</td>\n",
              "      <td>81</td>\n",
              "      <td>81</td>\n",
              "    </tr>\n",
              "    <tr>\n",
              "      <th>spoken_languages</th>\n",
              "      <td>[{'iso_639_1': 'en', 'name': 'English'}]</td>\n",
              "      <td>[{'iso_639_1': 'en', 'name': 'English'}]</td>\n",
              "      <td>[{'iso_639_1': 'en', 'name': 'English'}]</td>\n",
              "    </tr>\n",
              "    <tr>\n",
              "      <th>status</th>\n",
              "      <td>Released</td>\n",
              "      <td>Released</td>\n",
              "      <td>Released</td>\n",
              "    </tr>\n",
              "    <tr>\n",
              "      <th>tagline</th>\n",
              "      <td>NaN</td>\n",
              "      <td>NaN</td>\n",
              "      <td>NaN</td>\n",
              "    </tr>\n",
              "    <tr>\n",
              "      <th>title</th>\n",
              "      <td>Toy Story</td>\n",
              "      <td>Toy Story</td>\n",
              "      <td>Toy Story</td>\n",
              "    </tr>\n",
              "    <tr>\n",
              "      <th>video</th>\n",
              "      <td>False</td>\n",
              "      <td>False</td>\n",
              "      <td>False</td>\n",
              "    </tr>\n",
              "    <tr>\n",
              "      <th>vote_average</th>\n",
              "      <td>7.7</td>\n",
              "      <td>7.7</td>\n",
              "      <td>7.7</td>\n",
              "    </tr>\n",
              "    <tr>\n",
              "      <th>vote_count</th>\n",
              "      <td>5415</td>\n",
              "      <td>5415</td>\n",
              "      <td>5415</td>\n",
              "    </tr>\n",
              "    <tr>\n",
              "      <th>year</th>\n",
              "      <td>1995</td>\n",
              "      <td>1995</td>\n",
              "      <td>1995</td>\n",
              "    </tr>\n",
              "    <tr>\n",
              "      <th>genre</th>\n",
              "      <td>Animation</td>\n",
              "      <td>Comedy</td>\n",
              "      <td>Family</td>\n",
              "    </tr>\n",
              "  </tbody>\n",
              "</table>\n",
              "</div>"
            ],
            "text/plain": [
              "                                                                       0  ...                                                  0\n",
              "adult                                                              False  ...                                              False\n",
              "belongs_to_collection  {'id': 10194, 'name': 'Toy Story Collection', ...  ...  {'id': 10194, 'name': 'Toy Story Collection', ...\n",
              "budget                                                          30000000  ...                                           30000000\n",
              "homepage                            http://toystory.disney.com/toy-story  ...               http://toystory.disney.com/toy-story\n",
              "id                                                                   862  ...                                                862\n",
              "imdb_id                                                        tt0114709  ...                                          tt0114709\n",
              "original_language                                                     en  ...                                                 en\n",
              "original_title                                                 Toy Story  ...                                          Toy Story\n",
              "overview               Led by Woody, Andy's toys live happily in his ...  ...  Led by Woody, Andy's toys live happily in his ...\n",
              "popularity                                                       21.9469  ...                                            21.9469\n",
              "poster_path                             /rhIRbceoE9lR4veEXuwCC2wARtG.jpg  ...                   /rhIRbceoE9lR4veEXuwCC2wARtG.jpg\n",
              "production_companies      [{'name': 'Pixar Animation Studios', 'id': 3}]  ...     [{'name': 'Pixar Animation Studios', 'id': 3}]\n",
              "production_countries   [{'iso_3166_1': 'US', 'name': 'United States o...  ...  [{'iso_3166_1': 'US', 'name': 'United States o...\n",
              "release_date                                                  1995-10-30  ...                                         1995-10-30\n",
              "revenue                                                      3.73554e+08  ...                                        3.73554e+08\n",
              "runtime                                                               81  ...                                                 81\n",
              "spoken_languages                [{'iso_639_1': 'en', 'name': 'English'}]  ...           [{'iso_639_1': 'en', 'name': 'English'}]\n",
              "status                                                          Released  ...                                           Released\n",
              "tagline                                                              NaN  ...                                                NaN\n",
              "title                                                          Toy Story  ...                                          Toy Story\n",
              "video                                                              False  ...                                              False\n",
              "vote_average                                                         7.7  ...                                                7.7\n",
              "vote_count                                                          5415  ...                                               5415\n",
              "year                                                                1995  ...                                               1995\n",
              "genre                                                          Animation  ...                                             Family\n",
              "\n",
              "[25 rows x 3 columns]"
            ]
          },
          "metadata": {
            "tags": []
          },
          "execution_count": 35
        }
      ]
    },
    {
      "cell_type": "code",
      "metadata": {
        "id": "G7i7r3nPHpgo"
      },
      "source": [
        "def build_chart(genre, percentile=0.85):\n",
        "    df = gen_md[gen_md['genre'] == genre]\n",
        "    vote_counts = df[df['vote_count'].notnull()]['vote_count'].astype('int')\n",
        "    vote_averages = df[df['vote_average'].notnull()]['vote_average'].astype('int')\n",
        "    C = vote_averages.mean()\n",
        "    m = vote_counts.quantile(percentile)\n",
        "    \n",
        "    qualified = df[(df['vote_count'] >= m) & (df['vote_count'].notnull()) & \n",
        "                   (df['vote_average'].notnull())][['title', 'year', 'vote_count', 'vote_average', 'popularity']]\n",
        "    qualified['vote_count'] = qualified['vote_count'].astype('int')\n",
        "    qualified['vote_average'] = qualified['vote_average'].astype('int')\n",
        "    \n",
        "    qualified['wr'] = qualified.apply(lambda x: \n",
        "                        (x['vote_count']/(x['vote_count']+m) * x['vote_average']) + (m/(m+x['vote_count']) * C),\n",
        "                        axis=1)\n",
        "    qualified = qualified.sort_values('wr', ascending=False).head(250)\n",
        "    \n",
        "    return qualified"
      ],
      "execution_count": 36,
      "outputs": []
    },
    {
      "cell_type": "markdown",
      "metadata": {
        "id": "Gd52INqMHpgo"
      },
      "source": [
        "Let us see our method in action by displaying the __Top 15 Romance Movies__ (Romance almost didn't feature at all in our Generic Top Chart despite being one of the most popular movie genres).\n",
        "\n",
        "\n",
        "**Top 15 Romantic Movies**"
      ]
    },
    {
      "cell_type": "code",
      "metadata": {
        "colab": {
          "base_uri": "https://localhost:8080/",
          "height": 511
        },
        "id": "QZr_Cbo9Hpgo",
        "outputId": "c8334c70-afc7-4ee0-fb7b-264d1c195445"
      },
      "source": [
        "build_chart('Romance').head(15)"
      ],
      "execution_count": 37,
      "outputs": [
        {
          "output_type": "execute_result",
          "data": {
            "text/html": [
              "<div>\n",
              "<style scoped>\n",
              "    .dataframe tbody tr th:only-of-type {\n",
              "        vertical-align: middle;\n",
              "    }\n",
              "\n",
              "    .dataframe tbody tr th {\n",
              "        vertical-align: top;\n",
              "    }\n",
              "\n",
              "    .dataframe thead th {\n",
              "        text-align: right;\n",
              "    }\n",
              "</style>\n",
              "<table border=\"1\" class=\"dataframe\">\n",
              "  <thead>\n",
              "    <tr style=\"text-align: right;\">\n",
              "      <th></th>\n",
              "      <th>title</th>\n",
              "      <th>year</th>\n",
              "      <th>vote_count</th>\n",
              "      <th>vote_average</th>\n",
              "      <th>popularity</th>\n",
              "      <th>wr</th>\n",
              "    </tr>\n",
              "  </thead>\n",
              "  <tbody>\n",
              "    <tr>\n",
              "      <th>10309</th>\n",
              "      <td>Dilwale Dulhania Le Jayenge</td>\n",
              "      <td>1995</td>\n",
              "      <td>661</td>\n",
              "      <td>9</td>\n",
              "      <td>34.457</td>\n",
              "      <td>8.565285</td>\n",
              "    </tr>\n",
              "    <tr>\n",
              "      <th>351</th>\n",
              "      <td>Forrest Gump</td>\n",
              "      <td>1994</td>\n",
              "      <td>8147</td>\n",
              "      <td>8</td>\n",
              "      <td>48.3072</td>\n",
              "      <td>7.971357</td>\n",
              "    </tr>\n",
              "    <tr>\n",
              "      <th>876</th>\n",
              "      <td>Vertigo</td>\n",
              "      <td>1958</td>\n",
              "      <td>1162</td>\n",
              "      <td>8</td>\n",
              "      <td>18.2082</td>\n",
              "      <td>7.811667</td>\n",
              "    </tr>\n",
              "    <tr>\n",
              "      <th>40251</th>\n",
              "      <td>Your Name.</td>\n",
              "      <td>2016</td>\n",
              "      <td>1030</td>\n",
              "      <td>8</td>\n",
              "      <td>34.461252</td>\n",
              "      <td>7.789489</td>\n",
              "    </tr>\n",
              "    <tr>\n",
              "      <th>883</th>\n",
              "      <td>Some Like It Hot</td>\n",
              "      <td>1959</td>\n",
              "      <td>835</td>\n",
              "      <td>8</td>\n",
              "      <td>11.8451</td>\n",
              "      <td>7.745154</td>\n",
              "    </tr>\n",
              "    <tr>\n",
              "      <th>1132</th>\n",
              "      <td>Cinema Paradiso</td>\n",
              "      <td>1988</td>\n",
              "      <td>834</td>\n",
              "      <td>8</td>\n",
              "      <td>14.177</td>\n",
              "      <td>7.744878</td>\n",
              "    </tr>\n",
              "    <tr>\n",
              "      <th>19901</th>\n",
              "      <td>Paperman</td>\n",
              "      <td>2012</td>\n",
              "      <td>734</td>\n",
              "      <td>8</td>\n",
              "      <td>7.19863</td>\n",
              "      <td>7.713951</td>\n",
              "    </tr>\n",
              "    <tr>\n",
              "      <th>37863</th>\n",
              "      <td>Sing Street</td>\n",
              "      <td>2016</td>\n",
              "      <td>669</td>\n",
              "      <td>8</td>\n",
              "      <td>10.672862</td>\n",
              "      <td>7.689483</td>\n",
              "    </tr>\n",
              "    <tr>\n",
              "      <th>882</th>\n",
              "      <td>The Apartment</td>\n",
              "      <td>1960</td>\n",
              "      <td>498</td>\n",
              "      <td>8</td>\n",
              "      <td>11.9943</td>\n",
              "      <td>7.599317</td>\n",
              "    </tr>\n",
              "    <tr>\n",
              "      <th>38718</th>\n",
              "      <td>The Handmaiden</td>\n",
              "      <td>2016</td>\n",
              "      <td>453</td>\n",
              "      <td>8</td>\n",
              "      <td>16.727405</td>\n",
              "      <td>7.566166</td>\n",
              "    </tr>\n",
              "    <tr>\n",
              "      <th>3189</th>\n",
              "      <td>City Lights</td>\n",
              "      <td>1931</td>\n",
              "      <td>444</td>\n",
              "      <td>8</td>\n",
              "      <td>10.8915</td>\n",
              "      <td>7.558867</td>\n",
              "    </tr>\n",
              "    <tr>\n",
              "      <th>24886</th>\n",
              "      <td>The Way He Looks</td>\n",
              "      <td>2014</td>\n",
              "      <td>262</td>\n",
              "      <td>8</td>\n",
              "      <td>5.71127</td>\n",
              "      <td>7.331363</td>\n",
              "    </tr>\n",
              "    <tr>\n",
              "      <th>45437</th>\n",
              "      <td>In a Heartbeat</td>\n",
              "      <td>2017</td>\n",
              "      <td>146</td>\n",
              "      <td>8</td>\n",
              "      <td>20.82178</td>\n",
              "      <td>7.003959</td>\n",
              "    </tr>\n",
              "    <tr>\n",
              "      <th>1639</th>\n",
              "      <td>Titanic</td>\n",
              "      <td>1997</td>\n",
              "      <td>7770</td>\n",
              "      <td>7</td>\n",
              "      <td>26.8891</td>\n",
              "      <td>6.981546</td>\n",
              "    </tr>\n",
              "    <tr>\n",
              "      <th>19731</th>\n",
              "      <td>Silver Linings Playbook</td>\n",
              "      <td>2012</td>\n",
              "      <td>4840</td>\n",
              "      <td>7</td>\n",
              "      <td>14.4881</td>\n",
              "      <td>6.970581</td>\n",
              "    </tr>\n",
              "  </tbody>\n",
              "</table>\n",
              "</div>"
            ],
            "text/plain": [
              "                             title  year  ...  popularity        wr\n",
              "10309  Dilwale Dulhania Le Jayenge  1995  ...      34.457  8.565285\n",
              "351                   Forrest Gump  1994  ...     48.3072  7.971357\n",
              "876                        Vertigo  1958  ...     18.2082  7.811667\n",
              "40251                   Your Name.  2016  ...   34.461252  7.789489\n",
              "883               Some Like It Hot  1959  ...     11.8451  7.745154\n",
              "1132               Cinema Paradiso  1988  ...      14.177  7.744878\n",
              "19901                     Paperman  2012  ...     7.19863  7.713951\n",
              "37863                  Sing Street  2016  ...   10.672862  7.689483\n",
              "882                  The Apartment  1960  ...     11.9943  7.599317\n",
              "38718               The Handmaiden  2016  ...   16.727405  7.566166\n",
              "3189                   City Lights  1931  ...     10.8915  7.558867\n",
              "24886             The Way He Looks  2014  ...     5.71127  7.331363\n",
              "45437               In a Heartbeat  2017  ...    20.82178  7.003959\n",
              "1639                       Titanic  1997  ...     26.8891  6.981546\n",
              "19731      Silver Linings Playbook  2012  ...     14.4881  6.970581\n",
              "\n",
              "[15 rows x 6 columns]"
            ]
          },
          "metadata": {
            "tags": []
          },
          "execution_count": 37
        }
      ]
    },
    {
      "cell_type": "markdown",
      "metadata": {
        "id": "HVLdz-G7Hpgo"
      },
      "source": [
        "### 6.2 Content based recommendation system"
      ]
    },
    {
      "cell_type": "code",
      "metadata": {
        "scrolled": false,
        "id": "AMYqE3jgHpgo"
      },
      "source": [
        "links_small = links_small[links_small['tmdbId'].notnull()]['tmdbId'].astype('int')"
      ],
      "execution_count": 38,
      "outputs": []
    },
    {
      "cell_type": "code",
      "metadata": {
        "id": "3r4qfSCqHpgp"
      },
      "source": [
        "## Pre-processing step\n",
        "\n",
        "def convert_int(x):\n",
        "    try:\n",
        "        return int(x)\n",
        "    except:\n",
        "        return np.nan\n"
      ],
      "execution_count": 39,
      "outputs": []
    },
    {
      "cell_type": "code",
      "metadata": {
        "colab": {
          "base_uri": "https://localhost:8080/",
          "height": 363
        },
        "id": "4WHPUWk_Hpgp",
        "outputId": "94f5bd28-e79d-4862-da01-6a4045412053"
      },
      "source": [
        "md['id'] = md['id'].apply(convert_int)\n",
        "md[md['id'].isnull()]"
      ],
      "execution_count": 40,
      "outputs": [
        {
          "output_type": "execute_result",
          "data": {
            "text/html": [
              "<div>\n",
              "<style scoped>\n",
              "    .dataframe tbody tr th:only-of-type {\n",
              "        vertical-align: middle;\n",
              "    }\n",
              "\n",
              "    .dataframe tbody tr th {\n",
              "        vertical-align: top;\n",
              "    }\n",
              "\n",
              "    .dataframe thead th {\n",
              "        text-align: right;\n",
              "    }\n",
              "</style>\n",
              "<table border=\"1\" class=\"dataframe\">\n",
              "  <thead>\n",
              "    <tr style=\"text-align: right;\">\n",
              "      <th></th>\n",
              "      <th>adult</th>\n",
              "      <th>belongs_to_collection</th>\n",
              "      <th>budget</th>\n",
              "      <th>genres</th>\n",
              "      <th>homepage</th>\n",
              "      <th>id</th>\n",
              "      <th>imdb_id</th>\n",
              "      <th>original_language</th>\n",
              "      <th>original_title</th>\n",
              "      <th>overview</th>\n",
              "      <th>popularity</th>\n",
              "      <th>poster_path</th>\n",
              "      <th>production_companies</th>\n",
              "      <th>production_countries</th>\n",
              "      <th>release_date</th>\n",
              "      <th>revenue</th>\n",
              "      <th>runtime</th>\n",
              "      <th>spoken_languages</th>\n",
              "      <th>status</th>\n",
              "      <th>tagline</th>\n",
              "      <th>title</th>\n",
              "      <th>video</th>\n",
              "      <th>vote_average</th>\n",
              "      <th>vote_count</th>\n",
              "      <th>year</th>\n",
              "    </tr>\n",
              "  </thead>\n",
              "  <tbody>\n",
              "    <tr>\n",
              "      <th>19730</th>\n",
              "      <td>- Written by Ørnås</td>\n",
              "      <td>0.065736</td>\n",
              "      <td>/ff9qCepilowshEtG2GYWwzt2bs4.jpg</td>\n",
              "      <td>[Carousel Productions, Vision View Entertainme...</td>\n",
              "      <td>[{'iso_3166_1': 'CA', 'name': 'Canada'}, {'iso...</td>\n",
              "      <td>NaN</td>\n",
              "      <td>0</td>\n",
              "      <td>104.0</td>\n",
              "      <td>[{'iso_639_1': 'en', 'name': 'English'}]</td>\n",
              "      <td>Released</td>\n",
              "      <td>NaN</td>\n",
              "      <td>Midnight Man</td>\n",
              "      <td>False</td>\n",
              "      <td>6.0</td>\n",
              "      <td>1</td>\n",
              "      <td>NaN</td>\n",
              "      <td>NaN</td>\n",
              "      <td>NaN</td>\n",
              "      <td>NaN</td>\n",
              "      <td>NaN</td>\n",
              "      <td>NaN</td>\n",
              "      <td>NaN</td>\n",
              "      <td>NaN</td>\n",
              "      <td>NaN</td>\n",
              "      <td>NaT</td>\n",
              "    </tr>\n",
              "    <tr>\n",
              "      <th>29503</th>\n",
              "      <td>Rune Balot goes to a casino connected to the ...</td>\n",
              "      <td>1.931659</td>\n",
              "      <td>/zV8bHuSL6WXoD6FWogP9j4x80bL.jpg</td>\n",
              "      <td>[Aniplex, GoHands, BROSTA TV, Mardock Scramble...</td>\n",
              "      <td>[{'iso_3166_1': 'US', 'name': 'United States o...</td>\n",
              "      <td>NaN</td>\n",
              "      <td>0</td>\n",
              "      <td>68.0</td>\n",
              "      <td>[{'iso_639_1': 'ja', 'name': '日本語'}]</td>\n",
              "      <td>Released</td>\n",
              "      <td>NaN</td>\n",
              "      <td>Mardock Scramble: The Third Exhaust</td>\n",
              "      <td>False</td>\n",
              "      <td>7.0</td>\n",
              "      <td>12</td>\n",
              "      <td>NaN</td>\n",
              "      <td>NaN</td>\n",
              "      <td>NaN</td>\n",
              "      <td>NaN</td>\n",
              "      <td>NaN</td>\n",
              "      <td>NaN</td>\n",
              "      <td>NaN</td>\n",
              "      <td>NaN</td>\n",
              "      <td>NaN</td>\n",
              "      <td>NaT</td>\n",
              "    </tr>\n",
              "    <tr>\n",
              "      <th>35587</th>\n",
              "      <td>Avalanche Sharks tells the story of a bikini ...</td>\n",
              "      <td>2.185485</td>\n",
              "      <td>/zaSf5OG7V8X8gqFvly88zDdRm46.jpg</td>\n",
              "      <td>[Odyssey Media, Pulser Productions, Rogue Stat...</td>\n",
              "      <td>[{'iso_3166_1': 'CA', 'name': 'Canada'}]</td>\n",
              "      <td>NaN</td>\n",
              "      <td>0</td>\n",
              "      <td>82.0</td>\n",
              "      <td>[{'iso_639_1': 'en', 'name': 'English'}]</td>\n",
              "      <td>Released</td>\n",
              "      <td>Beware Of Frost Bites</td>\n",
              "      <td>Avalanche Sharks</td>\n",
              "      <td>False</td>\n",
              "      <td>4.3</td>\n",
              "      <td>22</td>\n",
              "      <td>NaN</td>\n",
              "      <td>NaN</td>\n",
              "      <td>NaN</td>\n",
              "      <td>NaN</td>\n",
              "      <td>NaN</td>\n",
              "      <td>NaN</td>\n",
              "      <td>NaN</td>\n",
              "      <td>NaN</td>\n",
              "      <td>NaN</td>\n",
              "      <td>NaT</td>\n",
              "    </tr>\n",
              "  </tbody>\n",
              "</table>\n",
              "</div>"
            ],
            "text/plain": [
              "                                                   adult  ... year\n",
              "19730                                 - Written by Ørnås  ...  NaT\n",
              "29503   Rune Balot goes to a casino connected to the ...  ...  NaT\n",
              "35587   Avalanche Sharks tells the story of a bikini ...  ...  NaT\n",
              "\n",
              "[3 rows x 25 columns]"
            ]
          },
          "metadata": {
            "tags": []
          },
          "execution_count": 40
        }
      ]
    },
    {
      "cell_type": "code",
      "metadata": {
        "id": "pZgnQcKjHpgp"
      },
      "source": [
        "md = md.drop([19730, 29503, 35587])"
      ],
      "execution_count": 41,
      "outputs": []
    },
    {
      "cell_type": "code",
      "metadata": {
        "id": "82K0kioGHpgp"
      },
      "source": [
        "md['id'] = md['id'].astype('int')"
      ],
      "execution_count": 42,
      "outputs": []
    },
    {
      "cell_type": "code",
      "metadata": {
        "colab": {
          "base_uri": "https://localhost:8080/",
          "height": 1000
        },
        "id": "QE6n5XlXHpgp",
        "outputId": "dbf1b64b-ab41-41f9-dc67-4c98b1fa5ded"
      },
      "source": [
        "smd = md[md['id'].isin(links_small)]\n",
        "smd"
      ],
      "execution_count": 52,
      "outputs": [
        {
          "output_type": "execute_result",
          "data": {
            "text/html": [
              "<div>\n",
              "<style scoped>\n",
              "    .dataframe tbody tr th:only-of-type {\n",
              "        vertical-align: middle;\n",
              "    }\n",
              "\n",
              "    .dataframe tbody tr th {\n",
              "        vertical-align: top;\n",
              "    }\n",
              "\n",
              "    .dataframe thead th {\n",
              "        text-align: right;\n",
              "    }\n",
              "</style>\n",
              "<table border=\"1\" class=\"dataframe\">\n",
              "  <thead>\n",
              "    <tr style=\"text-align: right;\">\n",
              "      <th></th>\n",
              "      <th>adult</th>\n",
              "      <th>belongs_to_collection</th>\n",
              "      <th>budget</th>\n",
              "      <th>genres</th>\n",
              "      <th>homepage</th>\n",
              "      <th>id</th>\n",
              "      <th>imdb_id</th>\n",
              "      <th>original_language</th>\n",
              "      <th>original_title</th>\n",
              "      <th>overview</th>\n",
              "      <th>popularity</th>\n",
              "      <th>poster_path</th>\n",
              "      <th>production_companies</th>\n",
              "      <th>production_countries</th>\n",
              "      <th>release_date</th>\n",
              "      <th>revenue</th>\n",
              "      <th>runtime</th>\n",
              "      <th>spoken_languages</th>\n",
              "      <th>status</th>\n",
              "      <th>tagline</th>\n",
              "      <th>title</th>\n",
              "      <th>video</th>\n",
              "      <th>vote_average</th>\n",
              "      <th>vote_count</th>\n",
              "      <th>year</th>\n",
              "    </tr>\n",
              "  </thead>\n",
              "  <tbody>\n",
              "    <tr>\n",
              "      <th>0</th>\n",
              "      <td>False</td>\n",
              "      <td>{'id': 10194, 'name': 'Toy Story Collection', ...</td>\n",
              "      <td>30000000</td>\n",
              "      <td>[Animation, Comedy, Family]</td>\n",
              "      <td>http://toystory.disney.com/toy-story</td>\n",
              "      <td>862</td>\n",
              "      <td>tt0114709</td>\n",
              "      <td>en</td>\n",
              "      <td>Toy Story</td>\n",
              "      <td>Led by Woody, Andy's toys live happily in his ...</td>\n",
              "      <td>21.9469</td>\n",
              "      <td>/rhIRbceoE9lR4veEXuwCC2wARtG.jpg</td>\n",
              "      <td>[{'name': 'Pixar Animation Studios', 'id': 3}]</td>\n",
              "      <td>[{'iso_3166_1': 'US', 'name': 'United States o...</td>\n",
              "      <td>1995-10-30</td>\n",
              "      <td>373554033.0</td>\n",
              "      <td>81.0</td>\n",
              "      <td>[{'iso_639_1': 'en', 'name': 'English'}]</td>\n",
              "      <td>Released</td>\n",
              "      <td>NaN</td>\n",
              "      <td>Toy Story</td>\n",
              "      <td>False</td>\n",
              "      <td>7.7</td>\n",
              "      <td>5415.0</td>\n",
              "      <td>1995</td>\n",
              "    </tr>\n",
              "    <tr>\n",
              "      <th>1</th>\n",
              "      <td>False</td>\n",
              "      <td>NaN</td>\n",
              "      <td>65000000</td>\n",
              "      <td>[Adventure, Fantasy, Family]</td>\n",
              "      <td>NaN</td>\n",
              "      <td>8844</td>\n",
              "      <td>tt0113497</td>\n",
              "      <td>en</td>\n",
              "      <td>Jumanji</td>\n",
              "      <td>When siblings Judy and Peter discover an encha...</td>\n",
              "      <td>17.0155</td>\n",
              "      <td>/vzmL6fP7aPKNKPRTFnZmiUfciyV.jpg</td>\n",
              "      <td>[{'name': 'TriStar Pictures', 'id': 559}, {'na...</td>\n",
              "      <td>[{'iso_3166_1': 'US', 'name': 'United States o...</td>\n",
              "      <td>1995-12-15</td>\n",
              "      <td>262797249.0</td>\n",
              "      <td>104.0</td>\n",
              "      <td>[{'iso_639_1': 'en', 'name': 'English'}, {'iso...</td>\n",
              "      <td>Released</td>\n",
              "      <td>Roll the dice and unleash the excitement!</td>\n",
              "      <td>Jumanji</td>\n",
              "      <td>False</td>\n",
              "      <td>6.9</td>\n",
              "      <td>2413.0</td>\n",
              "      <td>1995</td>\n",
              "    </tr>\n",
              "    <tr>\n",
              "      <th>2</th>\n",
              "      <td>False</td>\n",
              "      <td>{'id': 119050, 'name': 'Grumpy Old Men Collect...</td>\n",
              "      <td>0</td>\n",
              "      <td>[Romance, Comedy]</td>\n",
              "      <td>NaN</td>\n",
              "      <td>15602</td>\n",
              "      <td>tt0113228</td>\n",
              "      <td>en</td>\n",
              "      <td>Grumpier Old Men</td>\n",
              "      <td>A family wedding reignites the ancient feud be...</td>\n",
              "      <td>11.7129</td>\n",
              "      <td>/6ksm1sjKMFLbO7UY2i6G1ju9SML.jpg</td>\n",
              "      <td>[{'name': 'Warner Bros.', 'id': 6194}, {'name'...</td>\n",
              "      <td>[{'iso_3166_1': 'US', 'name': 'United States o...</td>\n",
              "      <td>1995-12-22</td>\n",
              "      <td>0.0</td>\n",
              "      <td>101.0</td>\n",
              "      <td>[{'iso_639_1': 'en', 'name': 'English'}]</td>\n",
              "      <td>Released</td>\n",
              "      <td>Still Yelling. Still Fighting. Still Ready for...</td>\n",
              "      <td>Grumpier Old Men</td>\n",
              "      <td>False</td>\n",
              "      <td>6.5</td>\n",
              "      <td>92.0</td>\n",
              "      <td>1995</td>\n",
              "    </tr>\n",
              "    <tr>\n",
              "      <th>3</th>\n",
              "      <td>False</td>\n",
              "      <td>NaN</td>\n",
              "      <td>16000000</td>\n",
              "      <td>[Comedy, Drama, Romance]</td>\n",
              "      <td>NaN</td>\n",
              "      <td>31357</td>\n",
              "      <td>tt0114885</td>\n",
              "      <td>en</td>\n",
              "      <td>Waiting to Exhale</td>\n",
              "      <td>Cheated on, mistreated and stepped on, the wom...</td>\n",
              "      <td>3.85949</td>\n",
              "      <td>/16XOMpEaLWkrcPqSQqhTmeJuqQl.jpg</td>\n",
              "      <td>[{'name': 'Twentieth Century Fox Film Corporat...</td>\n",
              "      <td>[{'iso_3166_1': 'US', 'name': 'United States o...</td>\n",
              "      <td>1995-12-22</td>\n",
              "      <td>81452156.0</td>\n",
              "      <td>127.0</td>\n",
              "      <td>[{'iso_639_1': 'en', 'name': 'English'}]</td>\n",
              "      <td>Released</td>\n",
              "      <td>Friends are the people who let you be yourself...</td>\n",
              "      <td>Waiting to Exhale</td>\n",
              "      <td>False</td>\n",
              "      <td>6.1</td>\n",
              "      <td>34.0</td>\n",
              "      <td>1995</td>\n",
              "    </tr>\n",
              "    <tr>\n",
              "      <th>4</th>\n",
              "      <td>False</td>\n",
              "      <td>{'id': 96871, 'name': 'Father of the Bride Col...</td>\n",
              "      <td>0</td>\n",
              "      <td>[Comedy]</td>\n",
              "      <td>NaN</td>\n",
              "      <td>11862</td>\n",
              "      <td>tt0113041</td>\n",
              "      <td>en</td>\n",
              "      <td>Father of the Bride Part II</td>\n",
              "      <td>Just when George Banks has recovered from his ...</td>\n",
              "      <td>8.38752</td>\n",
              "      <td>/e64sOI48hQXyru7naBFyssKFxVd.jpg</td>\n",
              "      <td>[{'name': 'Sandollar Productions', 'id': 5842}...</td>\n",
              "      <td>[{'iso_3166_1': 'US', 'name': 'United States o...</td>\n",
              "      <td>1995-02-10</td>\n",
              "      <td>76578911.0</td>\n",
              "      <td>106.0</td>\n",
              "      <td>[{'iso_639_1': 'en', 'name': 'English'}]</td>\n",
              "      <td>Released</td>\n",
              "      <td>Just When His World Is Back To Normal... He's ...</td>\n",
              "      <td>Father of the Bride Part II</td>\n",
              "      <td>False</td>\n",
              "      <td>5.7</td>\n",
              "      <td>173.0</td>\n",
              "      <td>1995</td>\n",
              "    </tr>\n",
              "    <tr>\n",
              "      <th>...</th>\n",
              "      <td>...</td>\n",
              "      <td>...</td>\n",
              "      <td>...</td>\n",
              "      <td>...</td>\n",
              "      <td>...</td>\n",
              "      <td>...</td>\n",
              "      <td>...</td>\n",
              "      <td>...</td>\n",
              "      <td>...</td>\n",
              "      <td>...</td>\n",
              "      <td>...</td>\n",
              "      <td>...</td>\n",
              "      <td>...</td>\n",
              "      <td>...</td>\n",
              "      <td>...</td>\n",
              "      <td>...</td>\n",
              "      <td>...</td>\n",
              "      <td>...</td>\n",
              "      <td>...</td>\n",
              "      <td>...</td>\n",
              "      <td>...</td>\n",
              "      <td>...</td>\n",
              "      <td>...</td>\n",
              "      <td>...</td>\n",
              "      <td>...</td>\n",
              "    </tr>\n",
              "    <tr>\n",
              "      <th>40224</th>\n",
              "      <td>False</td>\n",
              "      <td>NaN</td>\n",
              "      <td>15000000</td>\n",
              "      <td>[Action, Adventure, Drama, Horror, Science Fic...</td>\n",
              "      <td>NaN</td>\n",
              "      <td>315011</td>\n",
              "      <td>tt4262980</td>\n",
              "      <td>ja</td>\n",
              "      <td>シン・ゴジラ</td>\n",
              "      <td>From the mind behind Evangelion comes a hit la...</td>\n",
              "      <td>9.285519</td>\n",
              "      <td>/8YWirGQidtZeSEmhqvQM5FrI6N1.jpg</td>\n",
              "      <td>[{'name': 'Cine Bazar', 'id': 5896}, {'name': ...</td>\n",
              "      <td>[{'iso_3166_1': 'JP', 'name': 'Japan'}]</td>\n",
              "      <td>2016-07-29</td>\n",
              "      <td>77000000.0</td>\n",
              "      <td>120.0</td>\n",
              "      <td>[{'iso_639_1': 'it', 'name': 'Italiano'}, {'is...</td>\n",
              "      <td>Released</td>\n",
              "      <td>A god incarnate. A city doomed.</td>\n",
              "      <td>Shin Godzilla</td>\n",
              "      <td>False</td>\n",
              "      <td>6.6</td>\n",
              "      <td>152.0</td>\n",
              "      <td>2016</td>\n",
              "    </tr>\n",
              "    <tr>\n",
              "      <th>40503</th>\n",
              "      <td>False</td>\n",
              "      <td>NaN</td>\n",
              "      <td>0</td>\n",
              "      <td>[Documentary, Music]</td>\n",
              "      <td>http://www.thebeatlesliveproject.com/</td>\n",
              "      <td>391698</td>\n",
              "      <td>tt2531318</td>\n",
              "      <td>en</td>\n",
              "      <td>The Beatles: Eight Days a Week - The Touring Y...</td>\n",
              "      <td>The band stormed Europe in 1963, and, in 1964,...</td>\n",
              "      <td>7.078301</td>\n",
              "      <td>/uv7syi4vRyjvWoB8qExbqnbuCu5.jpg</td>\n",
              "      <td>[{'name': 'Imagine Entertainment', 'id': 23}, ...</td>\n",
              "      <td>[{'iso_3166_1': 'GB', 'name': 'United Kingdom'...</td>\n",
              "      <td>2016-09-15</td>\n",
              "      <td>0.0</td>\n",
              "      <td>99.0</td>\n",
              "      <td>[{'iso_639_1': 'en', 'name': 'English'}]</td>\n",
              "      <td>Released</td>\n",
              "      <td>The band you know. The story you don't.</td>\n",
              "      <td>The Beatles: Eight Days a Week - The Touring Y...</td>\n",
              "      <td>False</td>\n",
              "      <td>7.6</td>\n",
              "      <td>92.0</td>\n",
              "      <td>2016</td>\n",
              "    </tr>\n",
              "    <tr>\n",
              "      <th>44821</th>\n",
              "      <td>False</td>\n",
              "      <td>{'id': 34055, 'name': 'Pokémon Collection', 'p...</td>\n",
              "      <td>16000000</td>\n",
              "      <td>[Adventure, Fantasy, Animation, Action, Family]</td>\n",
              "      <td>http://movies.warnerbros.com/pk3/</td>\n",
              "      <td>10991</td>\n",
              "      <td>tt0235679</td>\n",
              "      <td>ja</td>\n",
              "      <td>Pokémon 3: The Movie</td>\n",
              "      <td>When Molly Hale's sadness of her father's disa...</td>\n",
              "      <td>6.480376</td>\n",
              "      <td>/5ILjS6XB5deiHop8SXPsYxXWVPE.jpg</td>\n",
              "      <td>[{'name': 'TV Tokyo', 'id': 3034}, {'name': '4...</td>\n",
              "      <td>[{'iso_3166_1': 'JP', 'name': 'Japan'}]</td>\n",
              "      <td>2000-07-08</td>\n",
              "      <td>68411275.0</td>\n",
              "      <td>93.0</td>\n",
              "      <td>[{'iso_639_1': 'en', 'name': 'English'}]</td>\n",
              "      <td>Released</td>\n",
              "      <td>Pokémon: Spell of the Unknown</td>\n",
              "      <td>Pokémon: Spell of the Unknown</td>\n",
              "      <td>False</td>\n",
              "      <td>6.0</td>\n",
              "      <td>144.0</td>\n",
              "      <td>2000</td>\n",
              "    </tr>\n",
              "    <tr>\n",
              "      <th>44826</th>\n",
              "      <td>False</td>\n",
              "      <td>{'id': 34055, 'name': 'Pokémon Collection', 'p...</td>\n",
              "      <td>0</td>\n",
              "      <td>[Adventure, Fantasy, Animation, Science Fictio...</td>\n",
              "      <td>http://www.pokemon.com/us/movies/movie-pokemon...</td>\n",
              "      <td>12600</td>\n",
              "      <td>tt0287635</td>\n",
              "      <td>ja</td>\n",
              "      <td>劇場版ポケットモンスター セレビィ 時を越えた遭遇（であい）</td>\n",
              "      <td>All your favorite Pokémon characters are back,...</td>\n",
              "      <td>6.080108</td>\n",
              "      <td>/bqL0PVHbQ8Jmw3Njcl38kW0CoeM.jpg</td>\n",
              "      <td>[]</td>\n",
              "      <td>[{'iso_3166_1': 'JP', 'name': 'Japan'}, {'iso_...</td>\n",
              "      <td>2001-07-06</td>\n",
              "      <td>28023563.0</td>\n",
              "      <td>75.0</td>\n",
              "      <td>[{'iso_639_1': 'ja', 'name': '日本語'}]</td>\n",
              "      <td>Released</td>\n",
              "      <td>NaN</td>\n",
              "      <td>Pokémon 4Ever: Celebi - Voice of the Forest</td>\n",
              "      <td>False</td>\n",
              "      <td>5.7</td>\n",
              "      <td>82.0</td>\n",
              "      <td>2001</td>\n",
              "    </tr>\n",
              "    <tr>\n",
              "      <th>45265</th>\n",
              "      <td>False</td>\n",
              "      <td>NaN</td>\n",
              "      <td>0</td>\n",
              "      <td>[Comedy, Drama]</td>\n",
              "      <td>NaN</td>\n",
              "      <td>265189</td>\n",
              "      <td>tt2121382</td>\n",
              "      <td>sv</td>\n",
              "      <td>Turist</td>\n",
              "      <td>While holidaying in the French Alps, a Swedish...</td>\n",
              "      <td>12.165685</td>\n",
              "      <td>/rGMtc9AtZsnWSSL5VnLaGvx1PI6.jpg</td>\n",
              "      <td>[{'name': 'Motlys', 'id': 2783}, {'name': 'Cop...</td>\n",
              "      <td>[{'iso_3166_1': 'NO', 'name': 'Norway'}, {'iso...</td>\n",
              "      <td>2014-08-15</td>\n",
              "      <td>1359497.0</td>\n",
              "      <td>118.0</td>\n",
              "      <td>[{'iso_639_1': 'fr', 'name': 'Français'}, {'is...</td>\n",
              "      <td>Released</td>\n",
              "      <td>NaN</td>\n",
              "      <td>Force Majeure</td>\n",
              "      <td>False</td>\n",
              "      <td>6.8</td>\n",
              "      <td>255.0</td>\n",
              "      <td>2014</td>\n",
              "    </tr>\n",
              "  </tbody>\n",
              "</table>\n",
              "<p>9099 rows × 25 columns</p>\n",
              "</div>"
            ],
            "text/plain": [
              "       adult  ...  year\n",
              "0      False  ...  1995\n",
              "1      False  ...  1995\n",
              "2      False  ...  1995\n",
              "3      False  ...  1995\n",
              "4      False  ...  1995\n",
              "...      ...  ...   ...\n",
              "40224  False  ...  2016\n",
              "40503  False  ...  2016\n",
              "44821  False  ...  2000\n",
              "44826  False  ...  2001\n",
              "45265  False  ...  2014\n",
              "\n",
              "[9099 rows x 25 columns]"
            ]
          },
          "metadata": {
            "tags": []
          },
          "execution_count": 52
        }
      ]
    },
    {
      "cell_type": "markdown",
      "metadata": {
        "id": "BfYDrn88Hpgq"
      },
      "source": [
        "We have __9099 movies__ available in our small movies metadata dataset which is 5 times smaller than our original dataset of 45000 movies."
      ]
    },
    {
      "cell_type": "markdown",
      "metadata": {
        "id": "OyFUVlOOHpgq"
      },
      "source": [
        "###  Content based recommendation system : Using movie description and taglines"
      ]
    },
    {
      "cell_type": "markdown",
      "metadata": {
        "id": "AUaGmRmKHpgq"
      },
      "source": [
        "* Let us first try to build a recommender using movie descriptions and taglines. \n",
        "* We do not have a quantitative metric to judge our machine's performance so this will have to be done \n",
        "  qualitatively."
      ]
    },
    {
      "cell_type": "code",
      "metadata": {
        "colab": {
          "base_uri": "https://localhost:8080/"
        },
        "id": "DD1HUw1sHpgq",
        "outputId": "e925086e-550f-4bad-b264-c9030dbffd30"
      },
      "source": [
        "smd['tagline'] = smd['tagline'].fillna('')\n",
        "smd['description'] = smd['overview'] + smd['tagline']\n",
        "smd['description'] = smd['description'].fillna('')"
      ],
      "execution_count": 56,
      "outputs": [
        {
          "output_type": "execute_result",
          "data": {
            "text/plain": [
              "description    NaN\n",
              "overview       NaN\n",
              "Name: 300, dtype: object"
            ]
          },
          "metadata": {
            "tags": []
          },
          "execution_count": 56
        }
      ]
    },
    {
      "cell_type": "code",
      "metadata": {
        "id": "2-jy-XEQHpgq"
      },
      "source": [
        "tf = TfidfVectorizer(analyzer='word',ngram_range=(1, 2),min_df=0, stop_words='english')\n",
        "tfidf_matrix = tf.fit_transform(smd['description'])"
      ],
      "execution_count": 46,
      "outputs": []
    },
    {
      "cell_type": "code",
      "metadata": {
        "colab": {
          "base_uri": "https://localhost:8080/"
        },
        "id": "pp4dDd0cHpgr",
        "outputId": "ccbdc544-622b-4a3a-841d-a3176827e8ed"
      },
      "source": [
        "tfidf_matrix.shape"
      ],
      "execution_count": 47,
      "outputs": [
        {
          "output_type": "execute_result",
          "data": {
            "text/plain": [
              "(9099, 268124)"
            ]
          },
          "metadata": {
            "tags": []
          },
          "execution_count": 47
        }
      ]
    },
    {
      "cell_type": "markdown",
      "metadata": {
        "id": "0sd4KALSHpgr"
      },
      "source": [
        "* Since we have used the TF-IDF Vectorizer, calculating the Dot Product will directly give us the Cosine Similarity Score. \n",
        "\n",
        "* Therefore, we will use sklearn's linear_kernel instead of cosine_similarities since it is much faster."
      ]
    },
    {
      "cell_type": "code",
      "metadata": {
        "id": "dCl0sDXxHpgr"
      },
      "source": [
        "# http://scikit-learn.org/stable/modules/metrics.html#linear-kernel\n",
        "cosine_sim = linear_kernel(tfidf_matrix, tfidf_matrix)"
      ],
      "execution_count": 48,
      "outputs": []
    },
    {
      "cell_type": "code",
      "metadata": {
        "colab": {
          "base_uri": "https://localhost:8080/"
        },
        "id": "JAJa_ST0Hpgr",
        "outputId": "d031b850-6bce-456f-99c8-30f9b4f95e6f"
      },
      "source": [
        "cosine_sim[0]\n",
        "#cosine_sim.shape"
      ],
      "execution_count": 49,
      "outputs": [
        {
          "output_type": "execute_result",
          "data": {
            "text/plain": [
              "array([1.        , 0.00680476, 0.        , ..., 0.        , 0.00344913,\n",
              "       0.        ])"
            ]
          },
          "metadata": {
            "tags": []
          },
          "execution_count": 49
        }
      ]
    },
    {
      "cell_type": "markdown",
      "metadata": {
        "id": "4l_1MS8cHpgs"
      },
      "source": [
        "* We now have a pairwise cosine similarity matrix for all the movies in our dataset. \n",
        "* The next step is to write a function that returns the 30 most similar movies based on the cosine similarity score."
      ]
    },
    {
      "cell_type": "code",
      "metadata": {
        "colab": {
          "base_uri": "https://localhost:8080/"
        },
        "id": "p5MURTJuHpgs",
        "outputId": "01da9140-c472-482d-e928-75c574344d9a"
      },
      "source": [
        "smd = smd.reset_index()\n",
        "titles = smd['title']\n",
        "indices = pd.Series(smd.index, index=smd['title'])\n",
        "indices.head(2)"
      ],
      "execution_count": 61,
      "outputs": [
        {
          "output_type": "execute_result",
          "data": {
            "text/plain": [
              "title\n",
              "Toy Story    0\n",
              "Jumanji      1\n",
              "dtype: int64"
            ]
          },
          "metadata": {
            "tags": []
          },
          "execution_count": 61
        }
      ]
    },
    {
      "cell_type": "code",
      "metadata": {
        "colab": {
          "base_uri": "https://localhost:8080/"
        },
        "id": "e1FFdkBMzvjK",
        "outputId": "42bc5fd2-41c1-4a9d-87b1-04f95b758c15"
      },
      "source": [
        "indices"
      ],
      "execution_count": 60,
      "outputs": [
        {
          "output_type": "execute_result",
          "data": {
            "text/plain": [
              "title\n",
              "Toy Story                                                0\n",
              "Jumanji                                                  1\n",
              "Grumpier Old Men                                         2\n",
              "Waiting to Exhale                                        3\n",
              "Father of the Bride Part II                              4\n",
              "                                                      ... \n",
              "Shin Godzilla                                         9094\n",
              "The Beatles: Eight Days a Week - The Touring Years    9095\n",
              "Pokémon: Spell of the Unknown                         9096\n",
              "Pokémon 4Ever: Celebi - Voice of the Forest           9097\n",
              "Force Majeure                                         9098\n",
              "Length: 9099, dtype: int64"
            ]
          },
          "metadata": {
            "tags": []
          },
          "execution_count": 60
        }
      ]
    },
    {
      "cell_type": "code",
      "metadata": {
        "id": "L6GJVg0BHpgs"
      },
      "source": [
        "def get_recommendations(title):\n",
        "    idx = indices[title]\n",
        "    sim_scores = list(enumerate(cosine_sim[idx]))\n",
        "    sim_scores = sorted(sim_scores, key=lambda x: x[1], reverse=True)\n",
        "    sim_scores = sim_scores[1:31]\n",
        "    movie_indices = [i[0] for i in sim_scores]\n",
        "    return titles.iloc[movie_indices]"
      ],
      "execution_count": 51,
      "outputs": []
    },
    {
      "cell_type": "markdown",
      "metadata": {
        "id": "DasFe7yJHpgs"
      },
      "source": [
        "* We're all set...!\n",
        "* Let us now try and get the top recommendations for a few movies and see how good the recommendations are."
      ]
    },
    {
      "cell_type": "code",
      "metadata": {
        "colab": {
          "base_uri": "https://localhost:8080/"
        },
        "id": "h87HKJlGHpgs",
        "outputId": "0468b3e2-a767-432b-f3fe-b82cf3155bb5"
      },
      "source": [
        "get_recommendations('The Godfather').head(10)"
      ],
      "execution_count": 52,
      "outputs": [
        {
          "output_type": "execute_result",
          "data": {
            "text/plain": [
              "973      The Godfather: Part II\n",
              "8387                 The Family\n",
              "3509                       Made\n",
              "4196         Johnny Dangerously\n",
              "29               Shanghai Triad\n",
              "5667                       Fury\n",
              "2412             American Movie\n",
              "1582    The Godfather: Part III\n",
              "4221                    8 Women\n",
              "2159              Summer of Sam\n",
              "Name: title, dtype: object"
            ]
          },
          "metadata": {
            "tags": []
          },
          "execution_count": 52
        }
      ]
    },
    {
      "cell_type": "code",
      "metadata": {
        "colab": {
          "base_uri": "https://localhost:8080/"
        },
        "id": "B6UB9WL8Hpgs",
        "outputId": "257ed579-8b10-4237-a807-b7e3c700401f"
      },
      "source": [
        "get_recommendations('The Dark Knight').head(10)"
      ],
      "execution_count": 53,
      "outputs": [
        {
          "output_type": "execute_result",
          "data": {
            "text/plain": [
              "7931                      The Dark Knight Rises\n",
              "132                              Batman Forever\n",
              "1113                             Batman Returns\n",
              "8227    Batman: The Dark Knight Returns, Part 2\n",
              "7565                 Batman: Under the Red Hood\n",
              "524                                      Batman\n",
              "7901                           Batman: Year One\n",
              "2579               Batman: Mask of the Phantasm\n",
              "2696                                        JFK\n",
              "8165    Batman: The Dark Knight Returns, Part 1\n",
              "Name: title, dtype: object"
            ]
          },
          "metadata": {
            "tags": []
          },
          "execution_count": 53
        }
      ]
    },
    {
      "cell_type": "markdown",
      "metadata": {
        "id": "XyDC4_dHHpgt"
      },
      "source": [
        "* We see that for The __Dark Knight__, our system is able to identify it as a __Batman film and subsequently recommend other Batman films__ as its top recommendations.\n",
        "\n",
        "* But unfortunately, that is all this system can do at the moment. \n",
        "\n",
        "* This is not of much use to most people as it doesn't take into considerations very important features such as cast, crew, director and genre, which determine the rating and the popularity of a movie. \n",
        "\n",
        "* Someone who liked The Dark Knight probably likes it more because of Nolan and would hate Batman Forever and every other substandard movie in the Batman Franchise."
      ]
    },
    {
      "cell_type": "markdown",
      "metadata": {
        "id": "ltkgAr6CHpgt"
      },
      "source": [
        "* Therefore, we are going to use much more suggestive metadata than Overview and Tagline. \n",
        "* In the next subsection, we will build a more sophisticated recommender that takes __genre, keywords, cast and crew__ into consideration."
      ]
    },
    {
      "cell_type": "markdown",
      "metadata": {
        "id": "7F5X_22XHpgt"
      },
      "source": [
        "### Content based RS : Using movie description, taglines, keywords, cast, director and genres"
      ]
    },
    {
      "cell_type": "markdown",
      "metadata": {
        "id": "TSseQDJXHpgt"
      },
      "source": [
        "* To build our standard metadata based content recommender, we will need to __merge our current dataset with the \n",
        "  crew and the keyword datasets__. \n",
        "* Let us prepare this data as our first step."
      ]
    },
    {
      "cell_type": "code",
      "metadata": {
        "id": "H6iZbQeBHpgt"
      },
      "source": [
        "keywords['id'] = keywords['id'].astype('int')\n",
        "credits['id'] = credits['id'].astype('int')\n",
        "md['id'] = md['id'].astype('int')"
      ],
      "execution_count": 54,
      "outputs": []
    },
    {
      "cell_type": "code",
      "metadata": {
        "colab": {
          "base_uri": "https://localhost:8080/"
        },
        "id": "tt_9NAY7Hpgt",
        "outputId": "903ba856-1e00-497f-cc50-fb14db198b9a"
      },
      "source": [
        "md.shape"
      ],
      "execution_count": 55,
      "outputs": [
        {
          "output_type": "execute_result",
          "data": {
            "text/plain": [
              "(45463, 25)"
            ]
          },
          "metadata": {
            "tags": []
          },
          "execution_count": 55
        }
      ]
    },
    {
      "cell_type": "code",
      "metadata": {
        "id": "1_bHOMGUHpgu"
      },
      "source": [
        "md = md.merge(credits, on='id')\n",
        "md = md.merge(keywords, on='id')"
      ],
      "execution_count": 56,
      "outputs": []
    },
    {
      "cell_type": "code",
      "metadata": {
        "colab": {
          "base_uri": "https://localhost:8080/"
        },
        "id": "UYcWI2j2Hpgu",
        "outputId": "b3dbfcd0-2faf-417f-e6e0-f0ece6219b90"
      },
      "source": [
        "smd = md[md['id'].isin(links_small)]\n",
        "smd.shape\n",
        "\n",
        "# smd = md[md['id'].isin(links_small['tmdbId'])]\n",
        "# smd.shape"
      ],
      "execution_count": 57,
      "outputs": [
        {
          "output_type": "execute_result",
          "data": {
            "text/plain": [
              "(9219, 28)"
            ]
          },
          "metadata": {
            "tags": []
          },
          "execution_count": 57
        }
      ]
    },
    {
      "cell_type": "markdown",
      "metadata": {
        "id": "GoYwmuxIHpgu"
      },
      "source": [
        "We now have our cast, crew, genres and credits, all in one dataframe. Let us wrangle this a little more using the following intuitions:\n",
        "\n",
        "**1. Crew:** From the crew, we will only pick the director as our feature since the others don't contribute that much to the feel of the movie.\n",
        "\n",
        "**2. Cast:** Choosing Cast is a little more tricky. Lesser known actors and minor roles do not really affect people's opinion of a movie. Therefore, we must only select the major characters and their respective actors. Arbitrarily we will choose the top 3 actors that appear in the credits list."
      ]
    },
    {
      "cell_type": "code",
      "metadata": {
        "id": "MIn7YZ8MHpgu"
      },
      "source": [
        "smd['cast'] = smd['cast'].apply(literal_eval)\n",
        "smd['crew'] = smd['crew'].apply(literal_eval)\n",
        "smd['keywords'] = smd['keywords'].apply(literal_eval)\n",
        "smd['cast_size'] = smd['cast'].apply(lambda x: len(x))\n",
        "smd['crew_size'] = smd['crew'].apply(lambda x: len(x))"
      ],
      "execution_count": 58,
      "outputs": []
    },
    {
      "cell_type": "code",
      "metadata": {
        "id": "JitabEQqHpgu"
      },
      "source": [
        "def get_director(x):\n",
        "    for i in x:\n",
        "        if i['job'] == 'Director':\n",
        "            return i['name']\n",
        "    return np.nan"
      ],
      "execution_count": 59,
      "outputs": []
    },
    {
      "cell_type": "code",
      "metadata": {
        "id": "21ilfUeDHpgv"
      },
      "source": [
        "smd['director'] = smd['crew'].apply(get_director)\n",
        "smd['cast'] = smd['cast'].apply(lambda x: [i['name'] for i in x] if isinstance(x, list) else [])\n",
        "smd['cast'] = smd['cast'].apply(lambda x: x[:3] if len(x) >=3 else x)\n",
        "smd['keywords'] = smd['keywords'].apply(lambda x: [i['name'] for i in x] if isinstance(x, list) else [])"
      ],
      "execution_count": 60,
      "outputs": []
    },
    {
      "cell_type": "markdown",
      "metadata": {
        "id": "liUZDoxFHpgv"
      },
      "source": [
        "* Approach to building the recommender is going to be extremely hacky. \n",
        "\n",
        "* What I plan on doing is creating a metadata dump for every movie which consists of genres, director, main actors and keywords. \n",
        "\n",
        "* I then use a __Count Vectorizer__ to create our __count matrix__\n",
        "\n",
        "* The remaining steps are similar to what we did earlier: we calculate the cosine similarities and return movies that are most similar."
      ]
    },
    {
      "cell_type": "markdown",
      "metadata": {
        "id": "dTtJw933Hpgv"
      },
      "source": [
        "These are steps I follow in the preparation of my genres and credits data:\n",
        "\n",
        "1. __Strip Spaces and Convert to Lowercase__ from all our features. This way, our engine will not confuse between __Johnny Depp and Johnny Galecki.__\n",
        "2. __Mention Director 2 times__ to give it __more weight relative to the entire cast.__"
      ]
    },
    {
      "cell_type": "code",
      "metadata": {
        "id": "UJ01FNmpHpgv"
      },
      "source": [
        "smd['cast'] = smd['cast'].apply(lambda x: [str.lower(i.replace(\" \", \"\")) for i in x])\n",
        "smd['director'] = smd['director'].astype('str').apply(lambda x: str.lower(x.replace(\" \", \"\")))\n",
        "smd['director'] = smd['director'].apply(lambda x: [x,x, x])"
      ],
      "execution_count": 61,
      "outputs": []
    },
    {
      "cell_type": "markdown",
      "metadata": {
        "id": "HpjKKnomHpgv"
      },
      "source": [
        "**Keywords**\n",
        "\n",
        "* We will do a small amount of pre-processing of our keywords before putting them to any use. \n",
        "* we __calculate the frequenct counts of every keyword__ that appears in the dataset."
      ]
    },
    {
      "cell_type": "code",
      "metadata": {
        "colab": {
          "base_uri": "https://localhost:8080/"
        },
        "id": "TcRl9itPHpgv",
        "outputId": "3b741db6-a622-483d-aa6a-147e7e5b3449"
      },
      "source": [
        "s = smd.apply(lambda x: pd.Series(x['keywords']),axis=1).stack().reset_index(level=1, drop=True)\n",
        "s.name = 'keyword'\n",
        "s = s.value_counts()\n",
        "s[:5]"
      ],
      "execution_count": 62,
      "outputs": [
        {
          "output_type": "execute_result",
          "data": {
            "text/plain": [
              "independent film        610\n",
              "woman director          550\n",
              "murder                  399\n",
              "duringcreditsstinger    327\n",
              "based on novel          318\n",
              "Name: keyword, dtype: int64"
            ]
          },
          "metadata": {
            "tags": []
          },
          "execution_count": 62
        }
      ]
    },
    {
      "cell_type": "markdown",
      "metadata": {
        "id": "5gEqtxC8Hpgw"
      },
      "source": [
        "* Keywords occur in frequencies ranging from 1 to 610.\n",
        "* We do not have any use for keywords that occur only once. \n",
        "* Therefore, these can be safely removed. \n",
        "* Finally, we will convert every word to its stem so that words such as __Dogs__ and __Dog__ are considered the same."
      ]
    },
    {
      "cell_type": "code",
      "metadata": {
        "id": "SusBFAFhHpgw"
      },
      "source": [
        "s = s[s > 1]"
      ],
      "execution_count": 63,
      "outputs": []
    },
    {
      "cell_type": "code",
      "metadata": {
        "colab": {
          "base_uri": "https://localhost:8080/",
          "height": 35
        },
        "id": "pdURs0f3Hpgw",
        "outputId": "914322c1-b5fc-47b6-8ac1-91876b5b441e"
      },
      "source": [
        "# Just an example\n",
        "stemmer = SnowballStemmer('english')\n",
        "stemmer.stem('dogs')"
      ],
      "execution_count": 64,
      "outputs": [
        {
          "output_type": "execute_result",
          "data": {
            "application/vnd.google.colaboratory.intrinsic+json": {
              "type": "string"
            },
            "text/plain": [
              "'dog'"
            ]
          },
          "metadata": {
            "tags": []
          },
          "execution_count": 64
        }
      ]
    },
    {
      "cell_type": "code",
      "metadata": {
        "id": "9aLBWW-THpgw"
      },
      "source": [
        "def filter_keywords(x):\n",
        "    words = []\n",
        "    for i in x:\n",
        "        if i in s:\n",
        "            words.append(i)\n",
        "    return words"
      ],
      "execution_count": 65,
      "outputs": []
    },
    {
      "cell_type": "code",
      "metadata": {
        "id": "7xdo6cVGHpgw"
      },
      "source": [
        "smd['keywords'] = smd['keywords'].apply(filter_keywords)\n",
        "smd['keywords'] = smd['keywords'].apply(lambda x: [stemmer.stem(i) for i in x])\n",
        "smd['keywords'] = smd['keywords'].apply(lambda x: [str.lower(i.replace(\" \", \"\")) for i in x])"
      ],
      "execution_count": 66,
      "outputs": []
    },
    {
      "cell_type": "code",
      "metadata": {
        "id": "8Par4xskHpgx"
      },
      "source": [
        "smd['soup'] = smd['keywords'] + smd['cast'] + smd['director'] + smd['genres']\n",
        "smd['soup'] = smd['soup'].apply(lambda x: ' '.join(x))"
      ],
      "execution_count": 67,
      "outputs": []
    },
    {
      "cell_type": "code",
      "metadata": {
        "id": "qAAax9A3Hpgx"
      },
      "source": [
        "count = CountVectorizer(analyzer='word',ngram_range=(1, 2),min_df=0, stop_words='english')\n",
        "count_matrix = count.fit_transform(smd['soup'])"
      ],
      "execution_count": 68,
      "outputs": []
    },
    {
      "cell_type": "code",
      "metadata": {
        "id": "4rhncTdOHpgx"
      },
      "source": [
        "cosine_sim = cosine_similarity(count_matrix, count_matrix)"
      ],
      "execution_count": 69,
      "outputs": []
    },
    {
      "cell_type": "code",
      "metadata": {
        "id": "KkrSzxV9Hpgx"
      },
      "source": [
        "smd = smd.reset_index()\n",
        "titles = smd['title']\n",
        "indices = pd.Series(smd.index, index=smd['title'])"
      ],
      "execution_count": 70,
      "outputs": []
    },
    {
      "cell_type": "markdown",
      "metadata": {
        "id": "SWsMC3pbHpgx"
      },
      "source": [
        "* We will reuse the get_recommendations function that we had written earlier. \n",
        "* Since our cosine similarity scores have changed, we expect it to give us different (and probably better) results.\n",
        "* Let us check for __The Dark Knight__ again and see what recommendations I get this time around."
      ]
    },
    {
      "cell_type": "code",
      "metadata": {
        "colab": {
          "base_uri": "https://localhost:8080/"
        },
        "id": "J-tDwjhbHpgx",
        "outputId": "3390216b-7f68-473a-9e3c-85f6232d7410"
      },
      "source": [
        "get_recommendations('The Dark Knight').head(10)"
      ],
      "execution_count": 71,
      "outputs": [
        {
          "output_type": "execute_result",
          "data": {
            "text/plain": [
              "8031         The Dark Knight Rises\n",
              "6218                 Batman Begins\n",
              "6623                  The Prestige\n",
              "2085                     Following\n",
              "7648                     Inception\n",
              "4145                      Insomnia\n",
              "3381                       Memento\n",
              "8613                  Interstellar\n",
              "7659    Batman: Under the Red Hood\n",
              "1134                Batman Returns\n",
              "Name: title, dtype: object"
            ]
          },
          "metadata": {
            "tags": []
          },
          "execution_count": 71
        }
      ]
    },
    {
      "cell_type": "markdown",
      "metadata": {
        "id": "IvgRNMQIHpgy"
      },
      "source": [
        "* I am much more satisfied with the results I get this time around. The recommendations seem to have recognized other Christopher Nolan movies (due to the high weightage given to director) and put them as top recommendations. \n",
        "* I enjoyed watching __The Dark Knight__ as well as some of the other ones in the list including __Batman Begins, The Prestige and The Dark Knight Rises.__\n",
        "\n"
      ]
    },
    {
      "cell_type": "markdown",
      "metadata": {
        "id": "_kX1f0cNHpgy"
      },
      "source": [
        "**Improvment** \n",
        "\n",
        "* We can of course experiment on this engine by trying out different weights for our features (directors, actors, genres), limiting the number of keywords that can be used in the soup, weighing genres based on their frequency, only showing movies with the same languages, etc."
      ]
    },
    {
      "cell_type": "code",
      "metadata": {
        "colab": {
          "base_uri": "https://localhost:8080/"
        },
        "id": "WlJ0q3kSHpgy",
        "outputId": "88beed1d-8e53-43dc-afaa-0ade08c8f9dc"
      },
      "source": [
        "get_recommendations('Inception').head(10)"
      ],
      "execution_count": 72,
      "outputs": [
        {
          "output_type": "execute_result",
          "data": {
            "text/plain": [
              "6623                             The Prestige\n",
              "3381                                  Memento\n",
              "4145                                 Insomnia\n",
              "2085                                Following\n",
              "8031                    The Dark Knight Rises\n",
              "8613                             Interstellar\n",
              "6981                          The Dark Knight\n",
              "6218                            Batman Begins\n",
              "5638    Sky Captain and the World of Tomorrow\n",
              "8500                                  Don Jon\n",
              "Name: title, dtype: object"
            ]
          },
          "metadata": {
            "tags": []
          },
          "execution_count": 72
        }
      ]
    },
    {
      "cell_type": "code",
      "metadata": {
        "colab": {
          "base_uri": "https://localhost:8080/"
        },
        "id": "KcMqZMf7Hpgy",
        "outputId": "0eab931d-7e6f-4ecf-a6b1-5ab12e333d09"
      },
      "source": [
        "get_recommendations('Mean Girls').head(10)"
      ],
      "execution_count": 73,
      "outputs": [
        {
          "output_type": "execute_result",
          "data": {
            "text/plain": [
              "3319               Head Over Heels\n",
              "4763                 Freaky Friday\n",
              "1329              The House of Yes\n",
              "6277              Just Like Heaven\n",
              "7905         Mr. Popper's Penguins\n",
              "7332    Ghosts of Girlfriends Past\n",
              "6959     The Spiderwick Chronicles\n",
              "8883                      The DUFF\n",
              "6698         It's a Boy Girl Thing\n",
              "7377       I Love You, Beth Cooper\n",
              "Name: title, dtype: object"
            ]
          },
          "metadata": {
            "tags": []
          },
          "execution_count": 73
        }
      ]
    },
    {
      "cell_type": "code",
      "metadata": {
        "colab": {
          "base_uri": "https://localhost:8080/"
        },
        "id": "4IjLv80wHpgy",
        "outputId": "6c74ab51-33b6-4ba1-b573-9db2f366a5b7"
      },
      "source": [
        "get_recommendations('Pulp Fiction').head(10)"
      ],
      "execution_count": 74,
      "outputs": [
        {
          "output_type": "execute_result",
          "data": {
            "text/plain": [
              "1381            Jackie Brown\n",
              "8905       The Hateful Eight\n",
              "5200       Kill Bill: Vol. 2\n",
              "898           Reservoir Dogs\n",
              "4903       Kill Bill: Vol. 1\n",
              "7280    Inglourious Basterds\n",
              "6788             Death Proof\n",
              "8310        Django Unchained\n",
              "4595                   Basic\n",
              "4764                S.W.A.T.\n",
              "Name: title, dtype: object"
            ]
          },
          "metadata": {
            "tags": []
          },
          "execution_count": 74
        }
      ]
    },
    {
      "cell_type": "markdown",
      "metadata": {
        "id": "FkenzBJwHpgz"
      },
      "source": [
        "#### Add Popularity and Ratings "
      ]
    },
    {
      "cell_type": "markdown",
      "metadata": {
        "id": "RivzJLnCHpgz"
      },
      "source": [
        "* One thing that we notice about our recommendation system is that it recommends movies regardless of ratings and \n",
        "  popularity. It is true that Batman and Robin has a lot of similar characters as compared to The Dark Knight but   \n",
        "  it was a terrible movie that shouldn't be recommended to anyone.\n",
        "\n",
        "* Therefore, we will add a mechanism to remove bad movies and return movies which are popular and have had a good\n",
        "  critical response.\n",
        "\n",
        "* I will take the top 25 movies based on similarity scores and calculate the vote of the __60th percentile__ movie. \n",
        "  Then, using this as the value of $m$, we will calculate the weighted rating of each movie using IMDB's formula \n",
        "  like we did in the Simple Recommender section."
      ]
    },
    {
      "cell_type": "code",
      "metadata": {
        "id": "sl_EQyT-Hpgz"
      },
      "source": [
        "def improved_recommendations(title):\n",
        "    idx = indices[title]\n",
        "    sim_scores = list(enumerate(cosine_sim[idx]))\n",
        "    sim_scores = sorted(sim_scores, key=lambda x: x[1], reverse=True)\n",
        "    sim_scores = sim_scores[1:26]\n",
        "    movie_indices = [i[0] for i in sim_scores]\n",
        "    \n",
        "    movies = smd.iloc[movie_indices][['title', 'vote_count', 'vote_average', 'year']]\n",
        "    vote_counts = movies[movies['vote_count'].notnull()]['vote_count'].astype('int')\n",
        "    vote_averages = movies[movies['vote_average'].notnull()]['vote_average'].astype('int')\n",
        "    C = vote_averages.mean()\n",
        "    m = vote_counts.quantile(0.60)\n",
        "    qualified = movies[(movies['vote_count'] >= m) & (movies['vote_count'].notnull()) & \n",
        "                       (movies['vote_average'].notnull())]\n",
        "    qualified['vote_count'] = qualified['vote_count'].astype('int')\n",
        "    qualified['vote_average'] = qualified['vote_average'].astype('int')\n",
        "    qualified['wr'] = qualified.apply(weighted_rating, axis=1)\n",
        "    qualified = qualified.sort_values('wr', ascending=False).head(10)\n",
        "    return qualified"
      ],
      "execution_count": 75,
      "outputs": []
    },
    {
      "cell_type": "code",
      "metadata": {
        "colab": {
          "base_uri": "https://localhost:8080/",
          "height": 357
        },
        "id": "rcLDV85fHpgz",
        "outputId": "56e10b30-c12d-48d6-85aa-8f54c0b93880"
      },
      "source": [
        "improved_recommendations('The Dark Knight')"
      ],
      "execution_count": 76,
      "outputs": [
        {
          "output_type": "execute_result",
          "data": {
            "text/html": [
              "<div>\n",
              "<style scoped>\n",
              "    .dataframe tbody tr th:only-of-type {\n",
              "        vertical-align: middle;\n",
              "    }\n",
              "\n",
              "    .dataframe tbody tr th {\n",
              "        vertical-align: top;\n",
              "    }\n",
              "\n",
              "    .dataframe thead th {\n",
              "        text-align: right;\n",
              "    }\n",
              "</style>\n",
              "<table border=\"1\" class=\"dataframe\">\n",
              "  <thead>\n",
              "    <tr style=\"text-align: right;\">\n",
              "      <th></th>\n",
              "      <th>title</th>\n",
              "      <th>vote_count</th>\n",
              "      <th>vote_average</th>\n",
              "      <th>year</th>\n",
              "      <th>wr</th>\n",
              "    </tr>\n",
              "  </thead>\n",
              "  <tbody>\n",
              "    <tr>\n",
              "      <th>7648</th>\n",
              "      <td>Inception</td>\n",
              "      <td>14075</td>\n",
              "      <td>8</td>\n",
              "      <td>2010</td>\n",
              "      <td>7.917588</td>\n",
              "    </tr>\n",
              "    <tr>\n",
              "      <th>8613</th>\n",
              "      <td>Interstellar</td>\n",
              "      <td>11187</td>\n",
              "      <td>8</td>\n",
              "      <td>2014</td>\n",
              "      <td>7.897107</td>\n",
              "    </tr>\n",
              "    <tr>\n",
              "      <th>6623</th>\n",
              "      <td>The Prestige</td>\n",
              "      <td>4510</td>\n",
              "      <td>8</td>\n",
              "      <td>2006</td>\n",
              "      <td>7.758148</td>\n",
              "    </tr>\n",
              "    <tr>\n",
              "      <th>3381</th>\n",
              "      <td>Memento</td>\n",
              "      <td>4168</td>\n",
              "      <td>8</td>\n",
              "      <td>2000</td>\n",
              "      <td>7.740175</td>\n",
              "    </tr>\n",
              "    <tr>\n",
              "      <th>8031</th>\n",
              "      <td>The Dark Knight Rises</td>\n",
              "      <td>9263</td>\n",
              "      <td>7</td>\n",
              "      <td>2012</td>\n",
              "      <td>6.921448</td>\n",
              "    </tr>\n",
              "    <tr>\n",
              "      <th>6218</th>\n",
              "      <td>Batman Begins</td>\n",
              "      <td>7511</td>\n",
              "      <td>7</td>\n",
              "      <td>2005</td>\n",
              "      <td>6.904127</td>\n",
              "    </tr>\n",
              "    <tr>\n",
              "      <th>1134</th>\n",
              "      <td>Batman Returns</td>\n",
              "      <td>1706</td>\n",
              "      <td>6</td>\n",
              "      <td>1992</td>\n",
              "      <td>5.846862</td>\n",
              "    </tr>\n",
              "    <tr>\n",
              "      <th>132</th>\n",
              "      <td>Batman Forever</td>\n",
              "      <td>1529</td>\n",
              "      <td>5</td>\n",
              "      <td>1995</td>\n",
              "      <td>5.054144</td>\n",
              "    </tr>\n",
              "    <tr>\n",
              "      <th>9024</th>\n",
              "      <td>Batman v Superman: Dawn of Justice</td>\n",
              "      <td>7189</td>\n",
              "      <td>5</td>\n",
              "      <td>2016</td>\n",
              "      <td>5.013943</td>\n",
              "    </tr>\n",
              "    <tr>\n",
              "      <th>1260</th>\n",
              "      <td>Batman &amp; Robin</td>\n",
              "      <td>1447</td>\n",
              "      <td>4</td>\n",
              "      <td>1997</td>\n",
              "      <td>4.287233</td>\n",
              "    </tr>\n",
              "  </tbody>\n",
              "</table>\n",
              "</div>"
            ],
            "text/plain": [
              "                                   title  vote_count  ...  year        wr\n",
              "7648                           Inception       14075  ...  2010  7.917588\n",
              "8613                        Interstellar       11187  ...  2014  7.897107\n",
              "6623                        The Prestige        4510  ...  2006  7.758148\n",
              "3381                             Memento        4168  ...  2000  7.740175\n",
              "8031               The Dark Knight Rises        9263  ...  2012  6.921448\n",
              "6218                       Batman Begins        7511  ...  2005  6.904127\n",
              "1134                      Batman Returns        1706  ...  1992  5.846862\n",
              "132                       Batman Forever        1529  ...  1995  5.054144\n",
              "9024  Batman v Superman: Dawn of Justice        7189  ...  2016  5.013943\n",
              "1260                      Batman & Robin        1447  ...  1997  4.287233\n",
              "\n",
              "[10 rows x 5 columns]"
            ]
          },
          "metadata": {
            "tags": []
          },
          "execution_count": 76
        }
      ]
    },
    {
      "cell_type": "code",
      "metadata": {
        "scrolled": true,
        "colab": {
          "base_uri": "https://localhost:8080/",
          "height": 357
        },
        "id": "VRdX6xJEHpgz",
        "outputId": "16a99150-45a0-400b-f808-a24cb1d122e8"
      },
      "source": [
        "improved_recommendations('Pulp Fiction')"
      ],
      "execution_count": 77,
      "outputs": [
        {
          "output_type": "execute_result",
          "data": {
            "text/html": [
              "<div>\n",
              "<style scoped>\n",
              "    .dataframe tbody tr th:only-of-type {\n",
              "        vertical-align: middle;\n",
              "    }\n",
              "\n",
              "    .dataframe tbody tr th {\n",
              "        vertical-align: top;\n",
              "    }\n",
              "\n",
              "    .dataframe thead th {\n",
              "        text-align: right;\n",
              "    }\n",
              "</style>\n",
              "<table border=\"1\" class=\"dataframe\">\n",
              "  <thead>\n",
              "    <tr style=\"text-align: right;\">\n",
              "      <th></th>\n",
              "      <th>title</th>\n",
              "      <th>vote_count</th>\n",
              "      <th>vote_average</th>\n",
              "      <th>year</th>\n",
              "      <th>wr</th>\n",
              "    </tr>\n",
              "  </thead>\n",
              "  <tbody>\n",
              "    <tr>\n",
              "      <th>898</th>\n",
              "      <td>Reservoir Dogs</td>\n",
              "      <td>3821</td>\n",
              "      <td>8</td>\n",
              "      <td>1992</td>\n",
              "      <td>7.718986</td>\n",
              "    </tr>\n",
              "    <tr>\n",
              "      <th>8310</th>\n",
              "      <td>Django Unchained</td>\n",
              "      <td>10297</td>\n",
              "      <td>7</td>\n",
              "      <td>2012</td>\n",
              "      <td>6.929017</td>\n",
              "    </tr>\n",
              "    <tr>\n",
              "      <th>7280</th>\n",
              "      <td>Inglourious Basterds</td>\n",
              "      <td>6598</td>\n",
              "      <td>7</td>\n",
              "      <td>2009</td>\n",
              "      <td>6.891679</td>\n",
              "    </tr>\n",
              "    <tr>\n",
              "      <th>4903</th>\n",
              "      <td>Kill Bill: Vol. 1</td>\n",
              "      <td>5091</td>\n",
              "      <td>7</td>\n",
              "      <td>2003</td>\n",
              "      <td>6.862133</td>\n",
              "    </tr>\n",
              "    <tr>\n",
              "      <th>8905</th>\n",
              "      <td>The Hateful Eight</td>\n",
              "      <td>4405</td>\n",
              "      <td>7</td>\n",
              "      <td>2015</td>\n",
              "      <td>6.842588</td>\n",
              "    </tr>\n",
              "    <tr>\n",
              "      <th>5200</th>\n",
              "      <td>Kill Bill: Vol. 2</td>\n",
              "      <td>4061</td>\n",
              "      <td>7</td>\n",
              "      <td>2004</td>\n",
              "      <td>6.830542</td>\n",
              "    </tr>\n",
              "    <tr>\n",
              "      <th>1381</th>\n",
              "      <td>Jackie Brown</td>\n",
              "      <td>1580</td>\n",
              "      <td>7</td>\n",
              "      <td>1997</td>\n",
              "      <td>6.621790</td>\n",
              "    </tr>\n",
              "    <tr>\n",
              "      <th>65</th>\n",
              "      <td>From Dusk Till Dawn</td>\n",
              "      <td>1644</td>\n",
              "      <td>6</td>\n",
              "      <td>1996</td>\n",
              "      <td>5.842293</td>\n",
              "    </tr>\n",
              "    <tr>\n",
              "      <th>6788</th>\n",
              "      <td>Death Proof</td>\n",
              "      <td>1359</td>\n",
              "      <td>6</td>\n",
              "      <td>2007</td>\n",
              "      <td>5.817225</td>\n",
              "    </tr>\n",
              "    <tr>\n",
              "      <th>4764</th>\n",
              "      <td>S.W.A.T.</td>\n",
              "      <td>780</td>\n",
              "      <td>5</td>\n",
              "      <td>2003</td>\n",
              "      <td>5.087550</td>\n",
              "    </tr>\n",
              "  </tbody>\n",
              "</table>\n",
              "</div>"
            ],
            "text/plain": [
              "                     title  vote_count  vote_average  year        wr\n",
              "898         Reservoir Dogs        3821             8  1992  7.718986\n",
              "8310      Django Unchained       10297             7  2012  6.929017\n",
              "7280  Inglourious Basterds        6598             7  2009  6.891679\n",
              "4903     Kill Bill: Vol. 1        5091             7  2003  6.862133\n",
              "8905     The Hateful Eight        4405             7  2015  6.842588\n",
              "5200     Kill Bill: Vol. 2        4061             7  2004  6.830542\n",
              "1381          Jackie Brown        1580             7  1997  6.621790\n",
              "65     From Dusk Till Dawn        1644             6  1996  5.842293\n",
              "6788           Death Proof        1359             6  2007  5.817225\n",
              "4764              S.W.A.T.         780             5  2003  5.087550"
            ]
          },
          "metadata": {
            "tags": []
          },
          "execution_count": 77
        }
      ]
    },
    {
      "cell_type": "markdown",
      "metadata": {
        "id": "cF9ogUYzHpg0"
      },
      "source": [
        "* Unfortunately, __Batman and Robin__ does not disappear from our recommendation list. \n",
        "* This is probably due to the fact that it is rated a 4, which is only slightly below average on TMDB. \n",
        "* It certainly doesn't deserve a 4 when amazing movies like The Dark Knight Rises has only a 7. \n",
        "* However, there is nothing much we can do about this. Therefore, we will conclude our Content Based Recommender \n",
        "  section here "
      ]
    },
    {
      "cell_type": "markdown",
      "metadata": {
        "id": "FKuctqp9Hpg0"
      },
      "source": [
        "### 6.3 CF based recommendation system"
      ]
    },
    {
      "cell_type": "markdown",
      "metadata": {
        "id": "w31dxMH6Hpg0"
      },
      "source": [
        "**Our content based engine suffers from some severe limitations.**\n",
        "\n",
        "* It is only capable of suggesting movies which are close to a certain movie. That is, it is not capable of capturing tastes and providing recommendations across genres.\n",
        "\n"
      ]
    },
    {
      "cell_type": "markdown",
      "metadata": {
        "id": "O6OwKoxMHpg0"
      },
      "source": [
        "* Also, the engine that we built is not really personal in that it doesn't capture the personal tastes and biases of a user. Anyone querying our engine for recommendations based on a movie will receive the same recommendations for that movie, regardless of who (s)he is.\n",
        "\n"
      ]
    },
    {
      "cell_type": "markdown",
      "metadata": {
        "id": "94xB4GTgHpg0"
      },
      "source": [
        "* Therefore, in this section, we will use Collaborative Filtering to make recommendations to Movie Watchers. Collaborative Filtering is based on the idea that users similar to a me can be used to predict how much I will like a particular product or service those users have used/experienced but I have not.\n",
        "\n"
      ]
    },
    {
      "cell_type": "markdown",
      "metadata": {
        "id": "8H5BHZkWHpg0"
      },
      "source": [
        "* I will not be implementing Collaborative Filtering from scratch. Instead, I will use the __[Surprise library](http://surpriselib.com/)__ that used extremely powerful algorithms like __Singular Value Decomposition (SVD) to minimise RMSE (Root Mean Square Error) and give great recommendations__.\n",
        "\n"
      ]
    },
    {
      "cell_type": "markdown",
      "metadata": {
        "id": "9DogK9QqHpg0"
      },
      "source": [
        "* Implementation of SVD for surprise library is given on this [link](https://github.com/NicolasHug/Surprise/blob/master/surprise/prediction_algorithms/matrix_factorization.pyx)"
      ]
    },
    {
      "cell_type": "code",
      "metadata": {
        "id": "nSUGBa73Hpg1"
      },
      "source": [
        "# surprise reader API to read the dataset\n",
        "reader = Reader()"
      ],
      "execution_count": 80,
      "outputs": []
    },
    {
      "cell_type": "code",
      "metadata": {
        "id": "_2xiZEOkHpg1"
      },
      "source": [
        "data = Dataset.load_from_df(ratings[['userId', 'movieId', 'rating']], reader)\n",
        "svd = SVD()\n",
        "cross_validate(svd, data, measures=['RMSE', 'MAE'],cv=5)"
      ],
      "execution_count": null,
      "outputs": []
    },
    {
      "cell_type": "code",
      "metadata": {
        "id": "bQrMXPDxHpg1"
      },
      "source": [
        "trainset = data.build_full_trainset()\n",
        "svd.fit(trainset)"
      ],
      "execution_count": null,
      "outputs": []
    },
    {
      "cell_type": "code",
      "metadata": {
        "id": "AMQtQDu6Hpg1"
      },
      "source": [
        "ratings[ratings['userId'] == 1]"
      ],
      "execution_count": null,
      "outputs": []
    },
    {
      "cell_type": "code",
      "metadata": {
        "id": "ZNB99OsHHpg2"
      },
      "source": [
        "svd.predict(1, 302)"
      ],
      "execution_count": null,
      "outputs": []
    },
    {
      "cell_type": "markdown",
      "metadata": {
        "id": "NQMu-1MpHpg2"
      },
      "source": [
        "* For movie with ID 302, we get an estimated prediction of 2.686. One startling feature of this recommender system is that it doesn't care what the movie is (or what it contains). It works purely on the basis of an assigned movie ID and tries to predict ratings based on how the other users have perceive the movie."
      ]
    },
    {
      "cell_type": "markdown",
      "metadata": {
        "id": "4DmJGnZmHpg2"
      },
      "source": [
        "### Hybrid recommendation system"
      ]
    },
    {
      "cell_type": "markdown",
      "metadata": {
        "id": "dxVFcrpoHpg2"
      },
      "source": [
        "* In this section, will try to build a simple hybrid recommender that brings together techniques we have implemented in the content based and collaborative filter based engines. This is how it will work:\n",
        "\n",
        "* **Input:** User ID and the Title of a Movie\n",
        "* **Output:** Similar movies sorted on the basis of expected ratings by that particular user."
      ]
    },
    {
      "cell_type": "code",
      "metadata": {
        "id": "gjtIoN-0Hpg2"
      },
      "source": [
        "def convert_int(x):\n",
        "    try:\n",
        "        return int(x)\n",
        "    except:\n",
        "        return np.nan"
      ],
      "execution_count": 111,
      "outputs": []
    },
    {
      "cell_type": "code",
      "metadata": {
        "id": "d_y5TZ_2Hpg2"
      },
      "source": [
        "id_map = pd.read_csv('/content/drive/MyDrive/Hybrid Mov Rec/data set/links_small.csv')[['movieId', 'tmdbId']]\n",
        "id_map['tmdbId'] = id_map['tmdbId'].apply(convert_int)\n",
        "id_map.columns = ['movieId', 'id']\n",
        "id_map = id_map.merge(smd[['title', 'id']], on='id').set_index('title')"
      ],
      "execution_count": 112,
      "outputs": []
    },
    {
      "cell_type": "code",
      "metadata": {
        "id": "xQgre4a3Hpg3"
      },
      "source": [
        "indices_map = id_map.set_index('id')"
      ],
      "execution_count": 113,
      "outputs": []
    },
    {
      "cell_type": "code",
      "metadata": {
        "id": "fUyEnL7OHpg3"
      },
      "source": [
        "def hybrid(userId, title):\n",
        "    idx = indices[title]\n",
        "    tmdbId = id_map.loc[title]['id']\n",
        "    movie_id = id_map.loc[title]['movieId']\n",
        "    sim_scores = list(enumerate(cosine_sim[int(idx)]))\n",
        "    sim_scores = sorted(sim_scores, key=lambda x: x[1], reverse=True)\n",
        "    sim_scores = sim_scores[1:26]\n",
        "    movie_indices = [i[0] for i in sim_scores]\n",
        "    movies = smd.iloc[movie_indices][['title', 'vote_count', 'vote_average', 'release_date', 'id']]\n",
        "    movies['est'] = movies['id'].apply(lambda x: svd.predict(userId, indices_map.loc[x]['movieId']).est)\n",
        "    movies = movies.sort_values('est', ascending=False)\n",
        "    return movies.head(10)"
      ],
      "execution_count": 114,
      "outputs": []
    },
    {
      "cell_type": "code",
      "metadata": {
        "id": "ekJ_8dutHpg5"
      },
      "source": [
        "hybrid(1, 'Avatar')"
      ],
      "execution_count": null,
      "outputs": []
    },
    {
      "cell_type": "code",
      "metadata": {
        "id": "qqU6Vd5-Hpg6"
      },
      "source": [
        "hybrid(5000, 'Aliens')\n"
      ],
      "execution_count": null,
      "outputs": []
    },
    {
      "cell_type": "code",
      "metadata": {
        "id": "XqmlrsMVHpg6"
      },
      "source": [
        "hybrid(3423, \"The Terminator\")"
      ],
      "execution_count": null,
      "outputs": []
    },
    {
      "cell_type": "markdown",
      "metadata": {
        "id": "n11GdcNrHpg6"
      },
      "source": [
        "# **We are done...!**"
      ]
    }
  ]
}